{
 "cells": [
  {
   "cell_type": "markdown",
   "metadata": {},
   "source": [
    "<h2 align='center'>Project: Hotel Booking Cancellation Prediction</h2>\n"
   ]
  },
  {
   "cell_type": "code",
   "execution_count": 1,
   "metadata": {},
   "outputs": [],
   "source": [
    "#import all required libraries\n",
    "\n",
    "import warnings           ## Because of the use of heavy libraries, system prompts us with numerous warnings.\n",
    "warnings.filterwarnings(\"ignore\")  ##To avoid this, we have imported library 'warnings'.\n",
    "\n",
    "import numpy as np\n",
    "import pandas as pd\n",
    "import seaborn as sns     # seaborn and matplotlib libraries help in visualisations.\n",
    "import matplotlib.pyplot as plt \n",
    "%matplotlib inline\n",
    "from sklearn import preprocessing\n",
    "from sklearn.feature_selection import RFE\n",
    "import statsmodels.api as sm\n",
    "from sklearn.metrics import confusion_matrix\n",
    "from sklearn.linear_model import LogisticRegression\n",
    "from sklearn.model_selection import train_test_split\n",
    "import pylab as plab\n",
    "from sklearn.tree import DecisionTreeClassifier\n",
    "from sklearn.ensemble import RandomForestClassifier\n",
    "from sklearn import metrics\n"
   ]
  },
  {
   "cell_type": "code",
   "execution_count": 2,
   "metadata": {},
   "outputs": [
    {
     "data": {
      "text/html": [
       "<div>\n",
       "<style scoped>\n",
       "    .dataframe tbody tr th:only-of-type {\n",
       "        vertical-align: middle;\n",
       "    }\n",
       "\n",
       "    .dataframe tbody tr th {\n",
       "        vertical-align: top;\n",
       "    }\n",
       "\n",
       "    .dataframe thead th {\n",
       "        text-align: right;\n",
       "    }\n",
       "</style>\n",
       "<table border=\"1\" class=\"dataframe\">\n",
       "  <thead>\n",
       "    <tr style=\"text-align: right;\">\n",
       "      <th></th>\n",
       "      <th>hotel</th>\n",
       "      <th>is_canceled</th>\n",
       "      <th>lead_time</th>\n",
       "      <th>arrival_date_year</th>\n",
       "      <th>arrival_date_month</th>\n",
       "      <th>arrival_date_week_number</th>\n",
       "      <th>arrival_date_day_of_month</th>\n",
       "      <th>stays_in_weekend_nights</th>\n",
       "      <th>stays_in_week_nights</th>\n",
       "      <th>adults</th>\n",
       "      <th>...</th>\n",
       "      <th>deposit_type</th>\n",
       "      <th>agent</th>\n",
       "      <th>company</th>\n",
       "      <th>days_in_waiting_list</th>\n",
       "      <th>customer_type</th>\n",
       "      <th>adr</th>\n",
       "      <th>required_car_parking_spaces</th>\n",
       "      <th>total_of_special_requests</th>\n",
       "      <th>reservation_status</th>\n",
       "      <th>reservation_status_date</th>\n",
       "    </tr>\n",
       "  </thead>\n",
       "  <tbody>\n",
       "    <tr>\n",
       "      <th>0</th>\n",
       "      <td>Resort Hotel</td>\n",
       "      <td>0</td>\n",
       "      <td>342</td>\n",
       "      <td>2015</td>\n",
       "      <td>July</td>\n",
       "      <td>27</td>\n",
       "      <td>1</td>\n",
       "      <td>0</td>\n",
       "      <td>0</td>\n",
       "      <td>2</td>\n",
       "      <td>...</td>\n",
       "      <td>No Deposit</td>\n",
       "      <td>NaN</td>\n",
       "      <td>NaN</td>\n",
       "      <td>0</td>\n",
       "      <td>Transient</td>\n",
       "      <td>0.0</td>\n",
       "      <td>0</td>\n",
       "      <td>0</td>\n",
       "      <td>Check-Out</td>\n",
       "      <td>2015-07-01</td>\n",
       "    </tr>\n",
       "    <tr>\n",
       "      <th>1</th>\n",
       "      <td>Resort Hotel</td>\n",
       "      <td>0</td>\n",
       "      <td>737</td>\n",
       "      <td>2015</td>\n",
       "      <td>July</td>\n",
       "      <td>27</td>\n",
       "      <td>1</td>\n",
       "      <td>0</td>\n",
       "      <td>0</td>\n",
       "      <td>2</td>\n",
       "      <td>...</td>\n",
       "      <td>No Deposit</td>\n",
       "      <td>NaN</td>\n",
       "      <td>NaN</td>\n",
       "      <td>0</td>\n",
       "      <td>Transient</td>\n",
       "      <td>0.0</td>\n",
       "      <td>0</td>\n",
       "      <td>0</td>\n",
       "      <td>Check-Out</td>\n",
       "      <td>2015-07-01</td>\n",
       "    </tr>\n",
       "    <tr>\n",
       "      <th>2</th>\n",
       "      <td>Resort Hotel</td>\n",
       "      <td>0</td>\n",
       "      <td>7</td>\n",
       "      <td>2015</td>\n",
       "      <td>July</td>\n",
       "      <td>27</td>\n",
       "      <td>1</td>\n",
       "      <td>0</td>\n",
       "      <td>1</td>\n",
       "      <td>1</td>\n",
       "      <td>...</td>\n",
       "      <td>No Deposit</td>\n",
       "      <td>NaN</td>\n",
       "      <td>NaN</td>\n",
       "      <td>0</td>\n",
       "      <td>Transient</td>\n",
       "      <td>75.0</td>\n",
       "      <td>0</td>\n",
       "      <td>0</td>\n",
       "      <td>Check-Out</td>\n",
       "      <td>2015-07-02</td>\n",
       "    </tr>\n",
       "    <tr>\n",
       "      <th>3</th>\n",
       "      <td>Resort Hotel</td>\n",
       "      <td>0</td>\n",
       "      <td>13</td>\n",
       "      <td>2015</td>\n",
       "      <td>July</td>\n",
       "      <td>27</td>\n",
       "      <td>1</td>\n",
       "      <td>0</td>\n",
       "      <td>1</td>\n",
       "      <td>1</td>\n",
       "      <td>...</td>\n",
       "      <td>No Deposit</td>\n",
       "      <td>304.0</td>\n",
       "      <td>NaN</td>\n",
       "      <td>0</td>\n",
       "      <td>Transient</td>\n",
       "      <td>75.0</td>\n",
       "      <td>0</td>\n",
       "      <td>0</td>\n",
       "      <td>Check-Out</td>\n",
       "      <td>2015-07-02</td>\n",
       "    </tr>\n",
       "    <tr>\n",
       "      <th>4</th>\n",
       "      <td>Resort Hotel</td>\n",
       "      <td>0</td>\n",
       "      <td>14</td>\n",
       "      <td>2015</td>\n",
       "      <td>July</td>\n",
       "      <td>27</td>\n",
       "      <td>1</td>\n",
       "      <td>0</td>\n",
       "      <td>2</td>\n",
       "      <td>2</td>\n",
       "      <td>...</td>\n",
       "      <td>No Deposit</td>\n",
       "      <td>240.0</td>\n",
       "      <td>NaN</td>\n",
       "      <td>0</td>\n",
       "      <td>Transient</td>\n",
       "      <td>98.0</td>\n",
       "      <td>0</td>\n",
       "      <td>1</td>\n",
       "      <td>Check-Out</td>\n",
       "      <td>2015-07-03</td>\n",
       "    </tr>\n",
       "  </tbody>\n",
       "</table>\n",
       "<p>5 rows × 32 columns</p>\n",
       "</div>"
      ],
      "text/plain": [
       "          hotel  is_canceled  lead_time  arrival_date_year arrival_date_month  \\\n",
       "0  Resort Hotel            0        342               2015               July   \n",
       "1  Resort Hotel            0        737               2015               July   \n",
       "2  Resort Hotel            0          7               2015               July   \n",
       "3  Resort Hotel            0         13               2015               July   \n",
       "4  Resort Hotel            0         14               2015               July   \n",
       "\n",
       "   arrival_date_week_number  arrival_date_day_of_month  \\\n",
       "0                        27                          1   \n",
       "1                        27                          1   \n",
       "2                        27                          1   \n",
       "3                        27                          1   \n",
       "4                        27                          1   \n",
       "\n",
       "   stays_in_weekend_nights  stays_in_week_nights  adults  ...  deposit_type  \\\n",
       "0                        0                     0       2  ...    No Deposit   \n",
       "1                        0                     0       2  ...    No Deposit   \n",
       "2                        0                     1       1  ...    No Deposit   \n",
       "3                        0                     1       1  ...    No Deposit   \n",
       "4                        0                     2       2  ...    No Deposit   \n",
       "\n",
       "   agent company days_in_waiting_list customer_type   adr  \\\n",
       "0    NaN     NaN                    0     Transient   0.0   \n",
       "1    NaN     NaN                    0     Transient   0.0   \n",
       "2    NaN     NaN                    0     Transient  75.0   \n",
       "3  304.0     NaN                    0     Transient  75.0   \n",
       "4  240.0     NaN                    0     Transient  98.0   \n",
       "\n",
       "   required_car_parking_spaces  total_of_special_requests  reservation_status  \\\n",
       "0                            0                          0           Check-Out   \n",
       "1                            0                          0           Check-Out   \n",
       "2                            0                          0           Check-Out   \n",
       "3                            0                          0           Check-Out   \n",
       "4                            0                          1           Check-Out   \n",
       "\n",
       "  reservation_status_date  \n",
       "0              2015-07-01  \n",
       "1              2015-07-01  \n",
       "2              2015-07-02  \n",
       "3              2015-07-02  \n",
       "4              2015-07-03  \n",
       "\n",
       "[5 rows x 32 columns]"
      ]
     },
     "execution_count": 2,
     "metadata": {},
     "output_type": "execute_result"
    }
   ],
   "source": [
    "# Fetching csv file as dataframe.\n",
    "filename= 'hotel_bookings.csv'\n",
    "df=pd.read_csv(filename)\n",
    "df.head()"
   ]
  },
  {
   "cell_type": "code",
   "execution_count": 3,
   "metadata": {},
   "outputs": [
    {
     "name": "stdout",
     "output_type": "stream",
     "text": [
      "<class 'pandas.core.frame.DataFrame'>\n",
      "RangeIndex: 119390 entries, 0 to 119389\n",
      "Data columns (total 32 columns):\n",
      " #   Column                          Non-Null Count   Dtype  \n",
      "---  ------                          --------------   -----  \n",
      " 0   hotel                           119390 non-null  object \n",
      " 1   is_canceled                     119390 non-null  int64  \n",
      " 2   lead_time                       119390 non-null  int64  \n",
      " 3   arrival_date_year               119390 non-null  int64  \n",
      " 4   arrival_date_month              119390 non-null  object \n",
      " 5   arrival_date_week_number        119390 non-null  int64  \n",
      " 6   arrival_date_day_of_month       119390 non-null  int64  \n",
      " 7   stays_in_weekend_nights         119390 non-null  int64  \n",
      " 8   stays_in_week_nights            119390 non-null  int64  \n",
      " 9   adults                          119390 non-null  int64  \n",
      " 10  children                        119386 non-null  float64\n",
      " 11  babies                          119390 non-null  int64  \n",
      " 12  meal                            119390 non-null  object \n",
      " 13  country                         118902 non-null  object \n",
      " 14  market_segment                  119390 non-null  object \n",
      " 15  distribution_channel            119390 non-null  object \n",
      " 16  is_repeated_guest               119390 non-null  int64  \n",
      " 17  previous_cancellations          119390 non-null  int64  \n",
      " 18  previous_bookings_not_canceled  119390 non-null  int64  \n",
      " 19  reserved_room_type              119390 non-null  object \n",
      " 20  assigned_room_type              119390 non-null  object \n",
      " 21  booking_changes                 119390 non-null  int64  \n",
      " 22  deposit_type                    119390 non-null  object \n",
      " 23  agent                           103050 non-null  float64\n",
      " 24  company                         6797 non-null    float64\n",
      " 25  days_in_waiting_list            119390 non-null  int64  \n",
      " 26  customer_type                   119390 non-null  object \n",
      " 27  adr                             119390 non-null  float64\n",
      " 28  required_car_parking_spaces     119390 non-null  int64  \n",
      " 29  total_of_special_requests       119390 non-null  int64  \n",
      " 30  reservation_status              119390 non-null  object \n",
      " 31  reservation_status_date         119390 non-null  object \n",
      "dtypes: float64(4), int64(16), object(12)\n",
      "memory usage: 29.1+ MB\n"
     ]
    }
   ],
   "source": [
    "df.info()"
   ]
  },
  {
   "cell_type": "markdown",
   "metadata": {},
   "source": [
    "<h3 align='center'>DATA PRE-PROCESSING</h3>"
   ]
  },
  {
   "cell_type": "code",
   "execution_count": 4,
   "metadata": {},
   "outputs": [],
   "source": [
    "# dropping the following the listed column that do not significantly impact our target variable.\n",
    "df.drop(columns=['agent', 'company', 'reservation_status', 'reservation_status_date','country'],inplace=True)\n",
    "df.dropna(axis=0,inplace=True)"
   ]
  },
  {
   "cell_type": "code",
   "execution_count": 5,
   "metadata": {},
   "outputs": [
    {
     "data": {
      "text/plain": [
       "(119386, 27)"
      ]
     },
     "execution_count": 5,
     "metadata": {},
     "output_type": "execute_result"
    }
   ],
   "source": [
    "df.shape"
   ]
  },
  {
   "cell_type": "code",
   "execution_count": 6,
   "metadata": {},
   "outputs": [
    {
     "data": {
      "text/plain": [
       "<matplotlib.axes._subplots.AxesSubplot at 0x2a8ee3c6278>"
      ]
     },
     "execution_count": 6,
     "metadata": {},
     "output_type": "execute_result"
    },
    {
     "data": {
      "image/png": "[encoded data removed]",
      "text/plain": [
       "<Figure size 432x288 with 1 Axes>"
      ]
     },
     "metadata": {
      "needs_background": "light"
     },
     "output_type": "display_data"
    }
   ],
   "source": [
    "# plotting the count of 'is_canceled' in our databse. 0 = did not cancel, 1 = cancel\n",
    "plt=sns.countplot(x='is_canceled',data=df,palette='hls')\n",
    "plt"
   ]
  },
  {
   "cell_type": "code",
   "execution_count": 7,
   "metadata": {},
   "outputs": [],
   "source": [
    "#Using labelencoder to convert all categorical and string data into integer\n",
    "L_Encoder = preprocessing.LabelEncoder() \n",
    "df['hotel'] = L_Encoder.fit_transform(df['hotel'])\n",
    "df['arrival_date_month'] = L_Encoder.fit_transform(df['arrival_date_month'])\n",
    "\n",
    "df['meal'] = L_Encoder.fit_transform(df['meal'])\n",
    "\n",
    "df['market_segment'] = L_Encoder.fit_transform(df['market_segment'])\n",
    "\n",
    "df['distribution_channel'] = L_Encoder.fit_transform(df['distribution_channel'])\n",
    "\n",
    "df['reserved_room_type'] = L_Encoder.fit_transform(df['reserved_room_type'])\n",
    "\n",
    "df['assigned_room_type'] = L_Encoder.fit_transform(df['assigned_room_type'])\n",
    "\n",
    "df['deposit_type'] = L_Encoder.fit_transform(df['deposit_type'])\n",
    "\n",
    "df['customer_type'] = L_Encoder.fit_transform(df['customer_type'])"
   ]
  },
  {
   "cell_type": "code",
   "execution_count": null,
   "metadata": {},
   "outputs": [],
   "source": [
    "# Apply OneHotEncoder to get Rid of the 'variable' values and convert them into 'integers'"
   ]
  },
  {
   "cell_type": "code",
   "execution_count": 8,
   "metadata": {},
   "outputs": [],
   "source": [
    "cat_variables=['hotel','arrival_date_month','meal','market_segment','distribution_channel','assigned_room_type','deposit_type','customer_type']\n",
    "for var in cat_variables:\n",
    "    \n",
    "    cat_list='var'+'_'+var\n",
    "    cat_list=pd.get_dummies(df[var],prefix=var)\n",
    "    df=df.join(cat_list)\n",
    "    \n",
    "cat_variables=['hotel','arrival_date_month','meal','market_segment','distribution_channel','assigned_room_type','deposit_type','customer_type']\n",
    "df_vars=df.columns.values.tolist()\n",
    "to_keep=[i for i in df_vars if i not in cat_variables]\n",
    "    "
   ]
  },
  {
   "cell_type": "code",
   "execution_count": 14,
   "metadata": {},
   "outputs": [
    {
     "data": {
      "text/plain": [
       "array(['is_canceled', 'lead_time', 'arrival_date_year',\n",
       "       'arrival_date_week_number', 'arrival_date_day_of_month',\n",
       "       'stays_in_weekend_nights', 'stays_in_week_nights', 'adults',\n",
       "       'children', 'babies', 'is_repeated_guest',\n",
       "       'previous_cancellations', 'previous_bookings_not_canceled',\n",
       "       'reserved_room_type', 'booking_changes', 'days_in_waiting_list',\n",
       "       'adr', 'required_car_parking_spaces', 'total_of_special_requests',\n",
       "       'hotel_0', 'hotel_1', 'arrival_date_month_0',\n",
       "       'arrival_date_month_1', 'arrival_date_month_2',\n",
       "       'arrival_date_month_3', 'arrival_date_month_4',\n",
       "       'arrival_date_month_5', 'arrival_date_month_6',\n",
       "       'arrival_date_month_7', 'arrival_date_month_8',\n",
       "       'arrival_date_month_9', 'arrival_date_month_10',\n",
       "       'arrival_date_month_11', 'meal_0', 'meal_1', 'meal_2', 'meal_3',\n",
       "       'meal_4', 'market_segment_0', 'market_segment_1',\n",
       "       'market_segment_2', 'market_segment_3', 'market_segment_4',\n",
       "       'market_segment_5', 'market_segment_6', 'distribution_channel_0',\n",
       "       'distribution_channel_1', 'distribution_channel_2',\n",
       "       'distribution_channel_3', 'distribution_channel_4',\n",
       "       'assigned_room_type_0', 'assigned_room_type_1',\n",
       "       'assigned_room_type_2', 'assigned_room_type_3',\n",
       "       'assigned_room_type_4', 'assigned_room_type_5',\n",
       "       'assigned_room_type_6', 'assigned_room_type_7',\n",
       "       'assigned_room_type_8', 'assigned_room_type_9',\n",
       "       'assigned_room_type_10', 'assigned_room_type_11', 'deposit_type_0',\n",
       "       'deposit_type_1', 'deposit_type_2', 'customer_type_0',\n",
       "       'customer_type_1', 'customer_type_2', 'customer_type_3'],\n",
       "      dtype=object)"
      ]
     },
     "execution_count": 14,
     "metadata": {},
     "output_type": "execute_result"
    }
   ],
   "source": [
    "#Storing all variables to df_final\n",
    "df_final=df[to_keep]\n",
    "df_final.columns.values"
   ]
  },
  {
   "cell_type": "code",
   "execution_count": 15,
   "metadata": {},
   "outputs": [
    {
     "data": {
      "text/plain": [
       "(119386, 69)"
      ]
     },
     "execution_count": 15,
     "metadata": {},
     "output_type": "execute_result"
    }
   ],
   "source": [
    "df_final.shape"
   ]
  },
  {
   "cell_type": "code",
   "execution_count": 16,
   "metadata": {},
   "outputs": [],
   "source": [
    "# X= independent variables, y= dependent variable\n",
    "X = df_final.loc[:,df_final.columns !='is_canceled']   #Selecting the entire dataset, WITHOUT target variable\n",
    "y = df_final.loc[:,df_final.columns == 'is_canceled']  #Selecting the target variable"
   ]
  },
  {
   "cell_type": "code",
   "execution_count": 17,
   "metadata": {},
   "outputs": [],
   "source": [
    "#Splitting dataset into 3 parts:\n",
    "\n",
    "train_ratio = 0.70\n",
    "validation_ratio = 0.10\n",
    "test_ratio = 0.20\n",
    "\n",
    "# train dataset is now 70% of the entire data set\n",
    "\n",
    "X_train, X_test, y_train, y_test = train_test_split(X, y, test_size=1 - train_ratio, random_state=1)\n",
    "\n",
    "# test dataset is now 20% of the initial data set\n",
    "# validation dataset is now 10% of the initial data set\n",
    "X_val, X_test, y_val, y_test = train_test_split(X_test, y_test, test_size=test_ratio/(test_ratio + validation_ratio), \n",
    "                                                random_state=1) \n"
   ]
  },
  {
   "cell_type": "code",
   "execution_count": 18,
   "metadata": {},
   "outputs": [
    {
     "name": "stdout",
     "output_type": "stream",
     "text": [
      "83570\n",
      "23878\n",
      "11938\n"
     ]
    }
   ],
   "source": [
    "print(len(X_train))\n",
    "print(len(X_test))\n",
    "print(len(X_val))"
   ]
  },
  {
   "cell_type": "markdown",
   "metadata": {},
   "source": [
    "<h3 align='center'>LOGISTIC REGRESSION</h3>"
   ]
  },
  {
   "cell_type": "code",
   "execution_count": null,
   "metadata": {},
   "outputs": [],
   "source": [
    "#The Recursive Feature Elimination (RFE) method is a feature selection approach.\n",
    "#It works by recursively removing attributes and building a model on those attributes that remain. \n",
    "#It uses the model accuracy to identify which attributes (and combination of attributes) contribute the most to predicting \n",
    "#the target attribute."
   ]
  },
  {
   "cell_type": "code",
   "execution_count": 19,
   "metadata": {
    "scrolled": false
   },
   "outputs": [
    {
     "name": "stdout",
     "output_type": "stream",
     "text": [
      "[False False False False False False False False False False  True False\n",
      " False False False False  True False False False False False False False\n",
      " False False False False False False False False False False False False\n",
      " False False False False False False False  True False False False False\n",
      " False False False False False False False False False  True  True False\n",
      "  True  True  True  True False  True False False]\n",
      "[55 57 48 50 41 36 25 22 29  5  1  3 16 28 58 53  1  6 23 24 46 31 47 32\n",
      " 27 54 43 26 44 30 45 34 52  2 40 56 19 33 35 18 37 49  8  1 17 51  4  9\n",
      " 59 12 14 13 21 38 15 11  7  1  1 39  1  1  1  1 20  1 10 42]\n"
     ]
    }
   ],
   "source": [
    "y_log = y_train\n",
    "X_log = X_train\n",
    "\n",
    "logreg=LogisticRegression()\n",
    "\n",
    "rfe=RFE(logreg,10)\n",
    "rfe=rfe.fit(X_log,y_log)\n",
    "\n",
    "print(rfe.support_)\n",
    "print(rfe.ranking_)"
   ]
  },
  {
   "cell_type": "code",
   "execution_count": 20,
   "metadata": {},
   "outputs": [
    {
     "data": {
      "text/html": [
       "<div>\n",
       "<style scoped>\n",
       "    .dataframe tbody tr th:only-of-type {\n",
       "        vertical-align: middle;\n",
       "    }\n",
       "\n",
       "    .dataframe tbody tr th {\n",
       "        vertical-align: top;\n",
       "    }\n",
       "\n",
       "    .dataframe thead th {\n",
       "        text-align: right;\n",
       "    }\n",
       "</style>\n",
       "<table border=\"1\" class=\"dataframe\">\n",
       "  <thead>\n",
       "    <tr style=\"text-align: right;\">\n",
       "      <th></th>\n",
       "      <th>Feature</th>\n",
       "      <th>Ranking</th>\n",
       "    </tr>\n",
       "  </thead>\n",
       "  <tbody>\n",
       "    <tr>\n",
       "      <th>60</th>\n",
       "      <td>assigned_room_type_11</td>\n",
       "      <td>1</td>\n",
       "    </tr>\n",
       "    <tr>\n",
       "      <th>65</th>\n",
       "      <td>customer_type_1</td>\n",
       "      <td>1</td>\n",
       "    </tr>\n",
       "    <tr>\n",
       "      <th>16</th>\n",
       "      <td>required_car_parking_spaces</td>\n",
       "      <td>1</td>\n",
       "    </tr>\n",
       "    <tr>\n",
       "      <th>63</th>\n",
       "      <td>deposit_type_2</td>\n",
       "      <td>1</td>\n",
       "    </tr>\n",
       "    <tr>\n",
       "      <th>61</th>\n",
       "      <td>deposit_type_0</td>\n",
       "      <td>1</td>\n",
       "    </tr>\n",
       "    <tr>\n",
       "      <th>43</th>\n",
       "      <td>market_segment_6</td>\n",
       "      <td>1</td>\n",
       "    </tr>\n",
       "    <tr>\n",
       "      <th>62</th>\n",
       "      <td>deposit_type_1</td>\n",
       "      <td>1</td>\n",
       "    </tr>\n",
       "    <tr>\n",
       "      <th>57</th>\n",
       "      <td>assigned_room_type_8</td>\n",
       "      <td>1</td>\n",
       "    </tr>\n",
       "    <tr>\n",
       "      <th>10</th>\n",
       "      <td>previous_cancellations</td>\n",
       "      <td>1</td>\n",
       "    </tr>\n",
       "    <tr>\n",
       "      <th>58</th>\n",
       "      <td>assigned_room_type_9</td>\n",
       "      <td>1</td>\n",
       "    </tr>\n",
       "  </tbody>\n",
       "</table>\n",
       "</div>"
      ],
      "text/plain": [
       "                        Feature  Ranking\n",
       "60        assigned_room_type_11        1\n",
       "65              customer_type_1        1\n",
       "16  required_car_parking_spaces        1\n",
       "63               deposit_type_2        1\n",
       "61               deposit_type_0        1\n",
       "43             market_segment_6        1\n",
       "62               deposit_type_1        1\n",
       "57         assigned_room_type_8        1\n",
       "10       previous_cancellations        1\n",
       "58         assigned_room_type_9        1"
      ]
     },
     "execution_count": 20,
     "metadata": {},
     "output_type": "execute_result"
    }
   ],
   "source": [
    "# Sorting the variables on the basis of ranking, with 1 being 'variable that affect that affects target variable the most'.\n",
    "\n",
    "selected_rfe_features=pd.DataFrame({'Feature':list(X_log.columns),'Ranking':rfe.ranking_})\n",
    "selected_rfe_features.sort_values(by='Ranking').head(10)"
   ]
  },
  {
   "cell_type": "code",
   "execution_count": 21,
   "metadata": {},
   "outputs": [],
   "source": [
    "#Selecting all 10 variables with ranking 1:\n",
    "\n",
    "cols=['assigned_room_type_11','deposit_type_2','deposit_type_1','market_segment_6','assigned_room_type_9','deposit_type_0','customer_type_1','previous_cancellations','assigned_room_type_8', 'required_car_parking_spaces']\n",
    "X_edit=X_log[cols]\n",
    "y_edit=y_log['is_canceled']"
   ]
  },
  {
   "cell_type": "code",
   "execution_count": 22,
   "metadata": {},
   "outputs": [
    {
     "name": "stdout",
     "output_type": "stream",
     "text": [
      "Warning: Maximum number of iterations has been exceeded.\n",
      "         Current function value: 0.477469\n",
      "         Iterations: 35\n",
      "                           Logit Regression Results                           \n",
      "==============================================================================\n",
      "Dep. Variable:            is_canceled   No. Observations:                83570\n",
      "Model:                          Logit   Df Residuals:                    83560\n",
      "Method:                           MLE   Df Model:                            9\n",
      "Date:                Sat, 02 May 2020   Pseudo R-squ.:                  0.2758\n",
      "Time:                        20:36:39   Log-Likelihood:                -39902.\n",
      "converged:                      False   LL-Null:                       -55100.\n",
      "Covariance Type:            nonrobust   LLR p-value:                     0.000\n",
      "===============================================================================================\n",
      "                                  coef    std err          z      P>|z|      [0.025      0.975]\n",
      "-----------------------------------------------------------------------------------------------\n",
      "assigned_room_type_11          16.1860    472.524      0.034      0.973    -909.944     942.316\n",
      "deposit_type_2                 -1.1963      0.236     -5.071      0.000      -1.659      -0.734\n",
      "deposit_type_1                  4.7833      0.123     38.988      0.000       4.543       5.024\n",
      "market_segment_6                1.0492      0.018     57.229      0.000       1.013       1.085\n",
      "assigned_room_type_9           -2.4053      0.389     -6.191      0.000      -3.167      -1.644\n",
      "deposit_type_0                 -1.4925      0.015    -99.691      0.000      -1.522      -1.463\n",
      "customer_type_1                -1.2315      0.177     -6.950      0.000      -1.579      -0.884\n",
      "previous_cancellations          1.7489      0.050     35.016      0.000       1.651       1.847\n",
      "assigned_room_type_8           -3.3406      0.583     -5.733      0.000      -4.483      -2.199\n",
      "required_car_parking_spaces   -33.2806   1398.515     -0.024      0.981   -2774.319    2707.758\n",
      "===============================================================================================\n"
     ]
    },
    {
     "name": "stderr",
     "output_type": "stream",
     "text": [
      "C:\\Users\\ADITI\\Anaconda3\\lib\\site-packages\\statsmodels\\base\\model.py:512: ConvergenceWarning: Maximum Likelihood optimization failed to converge. Check mle_retvals\n",
      "  \"Check mle_retvals\", ConvergenceWarning)\n"
     ]
    }
   ],
   "source": [
    "# Implementing the Logit function to check for p-value\n",
    "\n",
    "logit_model=sm.Logit(y_edit,X_edit)\n",
    "result=logit_model.fit()\n",
    "print(result.summary())"
   ]
  },
  {
   "cell_type": "code",
   "execution_count": 23,
   "metadata": {},
   "outputs": [],
   "source": [
    "# We'll remove all the variables that have p-value > 0.05\n",
    "\n",
    "cols=['deposit_type_2','deposit_type_1','market_segment_6','assigned_room_type_9','deposit_type_0','customer_type_1','previous_cancellations','assigned_room_type_8']\n",
    "X_edit=X_log[cols]\n",
    "y_edit=y_log['is_canceled']"
   ]
  },
  {
   "cell_type": "code",
   "execution_count": 24,
   "metadata": {},
   "outputs": [
    {
     "name": "stdout",
     "output_type": "stream",
     "text": [
      "Threshold Probability:  0.4 \n",
      "Maximum Acuuracy:  0.7682385459418711\n"
     ]
    }
   ],
   "source": [
    "#Apply logistic regression to train model.\n",
    "\n",
    "logreg=LogisticRegression()\n",
    "logreg.fit(X_edit, y_edit)\n",
    "pred_logreg = pd.DataFrame(logreg.predict_proba(X_test[cols]))\n",
    "\n",
    "# Check for model accuarcy with different threshold probabilities.\n",
    "\n",
    "threshold_list = [0.05,0.1,0.15,0.2,0.25,0.3,0.35,0.4,0.45,0.5,0.55,0.6,0.65,.7,.75,.8,.85,.9,.95,.99]\n",
    "\n",
    "acc_dict={}\n",
    "for i in threshold_list:\n",
    "    print ('\\nFor Threshold = {}'.format(i))\n",
    "    y_logPredict = pred_logreg.applymap(lambda x: 1 if x>i else 0)\n",
    "    test_accuracy = metrics.accuracy_score(y_test, y_logPredict.iloc[:,1])\n",
    "    \n",
    "    print('Our testing accuracy is: ',test_accuracy*100)\n"
   ]
  },
  {
   "cell_type": "markdown",
   "metadata": {},
   "source": [
    "<p>We are getting maximum accuracy of <b>76.82%</b> at threshold probability of <b>0.4.</b></p>"
   ]
  },
  {
   "cell_type": "code",
   "execution_count": null,
   "metadata": {},
   "outputs": [],
   "source": [
    "#Confusion Matrix:\n",
    "#It is a table that is often used to describe the performance of a classification model (or “classifier”) on a set of test \n",
    "#data for which the true values are known.\n",
    "#The sum of the numbers in top-left and bottom-right gives the number of values predicted correctly.\n",
    "#The sum of the numbers in top-right and bottom-left gives number of values predicted wrong."
   ]
  },
  {
   "cell_type": "code",
   "execution_count": 25,
   "metadata": {},
   "outputs": [
    {
     "name": "stdout",
     "output_type": "stream",
     "text": [
      "[[14939   109]\n",
      " [ 5425  3405]]\n"
     ]
    },
    {
     "data": {
      "text/plain": [
       "<matplotlib.axes._subplots.AxesSubplot at 0x2a8f5aea6d8>"
      ]
     },
     "execution_count": 25,
     "metadata": {},
     "output_type": "execute_result"
    },
    {
     "data": {
      "image/png": "[encoded data removed]",
      "text/plain": [
       "<Figure size 720x504 with 2 Axes>"
      ]
     },
     "metadata": {
      "needs_background": "light"
     },
     "output_type": "display_data"
    }
   ],
   "source": [
    "y_logPredict = pred_logreg.applymap(lambda x: 1 if x>0.4 else 0)\n",
    "cm_log = confusion_matrix(y_test,y_logPredict.iloc[:,1])\n",
    "print(cm_log)\n",
    "\n",
    "df_cm_log = pd.DataFrame(cm_log, index = (0, 1), columns = (0, 1))\n",
    "plab.figure(figsize = (10,7))\n",
    "sns.set(font_scale=1.4)\n",
    "sns.heatmap(df_cm_log, annot=True, fmt='g')"
   ]
  },
  {
   "cell_type": "markdown",
   "metadata": {},
   "source": [
    "<h3 align='center'>DECISION TREE</h3>"
   ]
  },
  {
   "cell_type": "code",
   "execution_count": 26,
   "metadata": {},
   "outputs": [],
   "source": [
    "X_dTree = X_train\n",
    "y_dTree = y_train"
   ]
  },
  {
   "cell_type": "code",
   "execution_count": 27,
   "metadata": {},
   "outputs": [
    {
     "name": "stdout",
     "output_type": "stream",
     "text": [
      "Accuracy of decision tree:  82.89220202697042\n"
     ]
    }
   ],
   "source": [
    "# Applying decision tree on data.\n",
    "\n",
    "clf = DecisionTreeClassifier(criterion=\"gini\", max_depth=21)\n",
    "\n",
    "clf.fit(X_dTree, y_dTree)\n",
    "#dt_b_hpt=clf.score(X_test,y_test)\n",
    "\n",
    "y_dtPredict_g=clf.predict(X_test)\n",
    "print('Accuracy of decision tree: ',metrics.accuracy_score(y_test, y_dtPredict_g)*100)"
   ]
  },
  {
   "cell_type": "code",
   "execution_count": 28,
   "metadata": {},
   "outputs": [
    {
     "name": "stdout",
     "output_type": "stream",
     "text": [
      "[[13180  1868]\n",
      " [ 2217  6613]]\n"
     ]
    },
    {
     "data": {
      "text/plain": [
       "<matplotlib.axes._subplots.AxesSubplot at 0x2a880d49f60>"
      ]
     },
     "execution_count": 28,
     "metadata": {},
     "output_type": "execute_result"
    },
    {
     "data": {
      "image/png": "[encoded data removed]",
      "text/plain": [
       "<Figure size 720x504 with 2 Axes>"
      ]
     },
     "metadata": {},
     "output_type": "display_data"
    }
   ],
   "source": [
    "# Confusion matrix\n",
    "\n",
    "cm_dt = confusion_matrix(y_test, y_dtPredict_g) # rows = truth, cols = prediction\n",
    "print(cm_dt)\n",
    "\n",
    "df_cm_dt = pd.DataFrame(cm_dt, index = (0, 1), columns = (0, 1))\n",
    "plab.figure(figsize = (10,7))\n",
    "sns.set(font_scale=1.4)\n",
    "sns.heatmap(df_cm_dt, annot=True, fmt='g')\n"
   ]
  },
  {
   "cell_type": "markdown",
   "metadata": {},
   "source": [
    "<p> We implemented decision tree over various criterias (entropy and gini index) and different depths.</p>\n",
    "<p>We got maximum accuracy with decision tree: <b>criteria= 'gini index' and max depth = '21'</b>.</p>"
   ]
  },
  {
   "cell_type": "markdown",
   "metadata": {},
   "source": [
    "<h3 align='center'>CLASSIFICATION OF VALIDATION DATA</h3>"
   ]
  },
  {
   "cell_type": "markdown",
   "metadata": {},
   "source": [
    "<p>After considering the accuracy levels of both the models, we have decided to deploy <b>decision tree model</b> to classify the validation data.</p>"
   ]
  },
  {
   "cell_type": "code",
   "execution_count": 29,
   "metadata": {},
   "outputs": [],
   "source": [
    "val_predict_clf=clf.predict(X_val)"
   ]
  },
  {
   "cell_type": "code",
   "execution_count": 30,
   "metadata": {},
   "outputs": [
    {
     "name": "stdout",
     "output_type": "stream",
     "text": [
      "[[6596  932]\n",
      " [1074 3336]]\n"
     ]
    },
    {
     "data": {
      "text/plain": [
       "<matplotlib.axes._subplots.AxesSubplot at 0x2a880da9fd0>"
      ]
     },
     "execution_count": 30,
     "metadata": {},
     "output_type": "execute_result"
    },
    {
     "data": {
      "image/png": "[encoded data removed]",
      "text/plain": [
       "<Figure size 720x504 with 2 Axes>"
      ]
     },
     "metadata": {},
     "output_type": "display_data"
    }
   ],
   "source": [
    "cm_dt = confusion_matrix(y_val, val_predict_clf) # rows = truth, cols = prediction\n",
    "print(cm_dt)\n",
    "\n",
    "df_cm_dt = pd.DataFrame(cm_dt, index = (0, 1), columns = (0, 1))\n",
    "plab.figure(figsize = (10,7))\n",
    "sns.set(font_scale=1.4)\n",
    "sns.heatmap(df_cm_dt, annot=True, fmt='g')"
   ]
  },
  {
   "cell_type": "code",
   "execution_count": 31,
   "metadata": {},
   "outputs": [
    {
     "name": "stdout",
     "output_type": "stream",
     "text": [
      "Accuracy of decision tree over validation data:  83.19651532920088\n"
     ]
    }
   ],
   "source": [
    "print('Accuracy of decision tree over validation data: ',metrics.accuracy_score(y_val, val_predict_clf)*100)"
   ]
  },
  {
   "cell_type": "code",
   "execution_count": 32,
   "metadata": {},
   "outputs": [
    {
     "name": "stdout",
     "output_type": "stream",
     "text": [
      "[0 1 0 ... 1 1 0]\n"
     ]
    }
   ],
   "source": [
    "print(val_predict_clf)"
   ]
  },
  {
   "cell_type": "code",
   "execution_count": 33,
   "metadata": {},
   "outputs": [],
   "source": [
    "# Exporting the results to csv file.\n",
    "y_df = pd.DataFrame(data = val_predict_clf, columns = ['classified_y'], index = X_val.index.copy())\n",
    "y_df_out = pd.merge(X_val, y_df, how = 'left', left_index = True, right_index = True)\n",
    "y_df_out.to_csv('classification.csv')"
   ]
  },
  {
   "cell_type": "code",
   "execution_count": null,
   "metadata": {},
   "outputs": [],
   "source": [
    "############################################################################################################"
   ]
  },
  {
   "cell_type": "markdown",
   "metadata": {},
   "source": [
    "<h3>To identify our target customers on the basis of probability of cancellation, we'll be using logistic regression over validation data.</h3>"
   ]
  },
  {
   "cell_type": "code",
   "execution_count": 34,
   "metadata": {},
   "outputs": [
    {
     "name": "stdout",
     "output_type": "stream",
     "text": [
      "Accuracy of logistic regression on validation data:  76.16853744345786\n"
     ]
    }
   ],
   "source": [
    "THRESHOLD = 0.4  # Selecting the threshold of 0.4 as it was providing maximum accuracy.\n",
    "preds = (logreg.predict_proba(X_val[cols])[:,1] > THRESHOLD)\n",
    "print('Accuracy of logistic regression on validation data: ',metrics.accuracy_score(y_val, preds)*100)"
   ]
  },
  {
   "cell_type": "code",
   "execution_count": 35,
   "metadata": {},
   "outputs": [],
   "source": [
    "arr_val = logreg.predict_proba(X_val[cols])"
   ]
  },
  {
   "cell_type": "code",
   "execution_count": 36,
   "metadata": {},
   "outputs": [
    {
     "name": "stdout",
     "output_type": "stream",
     "text": [
      "[[0.83 0.17]\n",
      " [0.83 0.17]\n",
      " [0.83 0.17]\n",
      " ...\n",
      " [0.63 0.37]\n",
      " [0.   1.  ]\n",
      " [0.83 0.17]]\n"
     ]
    }
   ],
   "source": [
    "arr_val = np.around(arr_val, decimals=2)\n",
    "print(arr_val)"
   ]
  },
  {
   "cell_type": "code",
   "execution_count": 37,
   "metadata": {},
   "outputs": [],
   "source": [
    "# Exporting the results to csv file.\n",
    "y_df = pd.DataFrame(data = arr_val, columns = ['not_cancel_prob', 'not_prob'], index = X_val.index.copy())\n",
    "y_df_out = pd.merge(X_val, y_df, how = 'left', left_index = True, right_index = True)\n",
    "y_df_out.to_csv('cancellation.csv')"
   ]
  },
  {
   "cell_type": "code",
   "execution_count": 42,
   "metadata": {},
   "outputs": [
    {
     "name": "stdout",
     "output_type": "stream",
     "text": [
      "[True, True, True, True, True, True, False, False, True, False, True, False, False, False, True, False, False, False, False, False, True, False, True, False, True, False, False, True, False, True, True, True, True, False, True, True, False, True, False, True, True, True, True, True, False, True, True, True, True, True, True, True, False, False, False, False, False, True, True, False, False, True, False, True, True, False, False, True, False, False, False, False, True, False, True, False, False, False, False, False, False, False, False, True, False, False, False, False, True, False, True, False, True, True, True, True, True, False, True, True, False, False, False, False, False, True, True, True, True, True, False, False, False, False, False, True, False, False, False, False, False, True, False, False, True, True, False, False, False, True, False, True, True, False, False, False, False, False, False, False, True, False, True, False, False, False, False, False, False, False, False, True, False, False, True, False, False, False, True, False, True, False, False, True, False, False, True, False, True, True, False, True, True, False, False, False, False, True, True, False, False, False, False, False, True, False, True, True, False, False, False, True, False, False, False, True, False, True, True, False, False, True, False, False, False, True, False, False, True, False, True, True, True, True, False, False, True, True, False, False, False, False, True, False, True, False, False, False, False, False, False, False, True, False, False, True, False, True, False, True, False, True, True, True, True, True, True, True, True, False, False, True, True, False, True, False, False, False, True, True, True, True, False, False, False, False, False, False, False, True, True, False, True, True, False, True, False, False, True, True, False, False, True, True, False, False, False, True, False, False, False, True, False, False, False, False, True, False, True, False, False, True, True, True, True, False, False, False, False, False, False, False, False, True, False, False, True, True, True, False, True, False, True, False, False, True, False, False, False, False, True, False, False, False, True, False, False, False, True, False, True, False, False, True, False, False, False, False, False, True, True, False, False, False, False, True, False, False, True, False, True, False, True, True, False, False, False, False, True, False, False, False, False, False, False, False, False, False, False, False, True, False, False, False, False, True, True, False, True, False, False, False, False, False, False, False, False, False, False, True, True, False, False, False, False, False, True, False, True, True, False, False, False, False, False, False, False, False, False, True, True, False, False, True, False, True, False, False, True, False, False, True, False, True, False, False, True, True, False, False, False, False, False, False, False, True, False, True, True, False, False, True, False, True, False, False, False, False, False, False, False, True, False, False, False, True, True, True, False, False, False, True, False, True, False, True, False, False, False, True, False, False, False, False, False, False, True, False, False, True, False, False, False, True, False, False, True, False, False, False, True, True, False, True, False, False, False, False, False, False, False, True, False, False, False, False, False, False, False, True, True, False, False, False, False, False, True, False, True, False, False, False, False, False, True, False, True, True, True, True, False, False, True, True, False, False, True, False, False, False, True, True, True, True, False, False, False, False, True, False, True, False, False, True, False, False, True, True, False, False, False, True, False, False, False, True, False, False, True, True, True, False, True, False, False, False, False, False, False, False, False, True, True, False, False, True, False, False, True, False, True, True, False, False, False, False, True, False, True, False, False, True, False, False, False, True, False, False, True, False, False, False, False, False, True, False, False, True, True, True, True, True, True, False, False, True, True, False, True, False, False, False, False, False, False, False, True, True, True, True, True, True, False, True, False, True, True, True, True, False, True, True, True, True, False, False, False, True, True, False, False, True, False, False, False, False, True, True, False, True, False, False, False, False, True, True, False, True, True, True, False, False, False, False, True, True, True, False, False, False, True, True, False, False, False, True, False, False, False, False, False, True, False, False, True, False, False, False, False, True, True, False, False, False, True, True, False, True, True, False, True, False, True, False, True, True, False, False, False, True, False, False, False, True, True, True, False, True, True, False, False, False, False, False, True, False, True, False, False, False, False, False, True, False, False, True, True, False, True, True, False, False, False, False, False, False, True, False, False, False, False, True, False, False, False, False, True, False, True, False, False, True, False, False, True, False, False, False, True, False, False, False, True, True, False, True, False, True, True, False, True, False, True, False, False, False, False, False, False, False, False, False, True, True, True, True, True, False, True, False, False, False, False, False, False, False, False, False, True, False, True, False, True, False, False, True, False, True, True, False, True, True, False, False, False, False, False, True, True, True, False, True, False, False, True, False, True, False, False, False, True, True, False, False, True, False, True, True, True, True, False, False, False, False, True, True, False, True, False, False, True, False, False, False, True, False, True, False, False, False, False, False, True, True, True, True, False, False, False, False, True, True, False, False, True, True, True, False, False, False, True, True, False, False, True, False, True, False, False, True, False, False, True, False, False, False, False, True, False, False, True, False, True, False, False, False, False, True, False, False, False, True, False, False, True, True, False, False, False, True, False, True, True, False, True, True, True, True, True, False, True, True, True, False, False, True, True, False, True, True, True, True, False, True, False, False, False, False, False, True, False, False, True, False, False, True, True, False, False, False, True, False, True, False, False, False, True, True, False, False, False, True, True, False, False, False, False, False, False, True, False, False, False, False, True, False, False, True, False, False, False, False, False, False, False, False, True, False, False, False, True, True, False, False, False, False, True, True, False, True, False, False, False, False, True, True, True, False, True, False, False, True, False, False, False, False, False, True, False, False, True, True, True, True, True, True, False, False, True, True, False, False, False, False, False, True, False, True, False, False, False, False, False, True, False, False, False, False, False, False, False, True, False, False, False, False, False, True, True, True, True, False, False, True, True, False, True, True, False, True, False, False, False, False, True, True, True, True, False, False, False, True, False, False, True, False, False, True, False, False, True, False, False, True, True, True, True, True, False, True, True, True, False, False, False, False, True, False, True, False, False, False, True, True, False, False, True, True, True, True, True, False, False, True, False, True, True, False, True, False, False, False, False, True, True, True, False, True, True, True, False, True, True, True, False, False, False, False, True, True, False, True, True, True, True, False, True, False, False, False, True, True, True, False, True, False, True, True, False, True, False, False, False, False, True, False, False, False, False, False, False, True, True, False, False, True, True, False, False, False, True, True, False, True, True, False, False, False, True, True, False, False, False, False, True, True, True, False, False, True, False, False, False, True, True, True, False, True, False, False, True, False, False, False, False, False, False, False, False, False, False, False, False, False, True, False, False, True, True, False, True, True, True, True, False, False, True, True, False, False, True, False, True, False, False, True, True, True, False, False, False, True, False, True, True, False, False, True, True, True, False, False, True, False, True, False, False, True, True, False, False, True, True, False, True, False, False, False, True, False, True, True, True, True, False, False, False, False, True, False, False, True, False, False, False, True, True, False, True, False, False, True, True, False, False, True, True, False, True, False, False, False, True, True, True, True, False, False, True, False, False, False, True, True, True, True, True, False, False, False, True, False, False, True, False, False, False, False, False, False, False, True, False, True, False, False, True, False, True, False, True, False, False, False, False, True, False, True, False, False, True, False, False, False, False, True, False, False, False, False, True, True, True, False, False, True, False, False, False, True, True, False, True, False, False, True, True, True, True, False, True, False, False, False, False, True, True, True, False, True, False, True, False, False, False, False, False, False, False, True, False, False, False, False, False, False, False, False, False, False, True, True, False, False, True, False, True, False, False, True, False, True, False, False, False, False, True, False, False, False, True, False, True, False, False, False, True, False, False, True, True, True, True, False, False, True, False, False, False, True, False, False, False, True, False, False, False, True, True, False, True, True, False, False, False, False, False, True, True, True, False, True, False, False, True, False, True, True, False, True, False, False, True, True, False, False, False, False, False, False, False, False, False, False, False, False, True, True, False, False, True, False, False, False, True, True, True, False, False, True, True, True, False, False, False, False, True, False, True, False, True, False, False, True, True, False, False, False, False, False, False, False, True, False, True, False, False, False, False, False, False, True, True, True, True, False, False, True, True, True, False, False, True, False, True, False, False, True, False, False, False, True, True, False, False, False, False, True, True, True, True, False, False, False, False, False, False, False, False, False, True, True, False, False, True, True, False, False, True, False, False, True, True, True, False, False, True, False, True, False, False, False, False, False, False, False, False, False, True, False, False, True, True, True, True, False, False, False, True, True, False, True, False, True, True, False, True, True, False, True, True, False, False, True, True, False, False, False, True, True, True, False, True, False, False, False, False, True, False, True, False, False, False, True, False, False, False, True, True, True, False, False, False, True, True, False, True, False, False, False, False, True, True, False, False, False, True, True, False, False, False, True, False, True, False, True, False, False, True, False, True, True, False, False, True, True, True, False, False, False, True, False, False, True, False, False, True, False, False, False, True, True, False, False, False, False, False, False, False, False, False, False, False, True, True, True, True, True, False, False, False, False, True, False, True, False, True, False, False, False, True, True, False, False, True, False, False, False, False, False, False, False, False, False, False, False, True, False, True, True, False, False, True, True, False, False, False, False, False, True, True, False, False, False, False, True, False, True, False, False, False, True, False, True, True, False, True, True, False, False, True, True, True, False, True, False, True, False, True, True, False, True, False, False, True, True, False, False, False, False, False, False, True, False, True, False, False, True, False, False, False, True, False, True, False, True, True, False, True, False, False, True, False, True, True, False, False, False, True, False, False, True, True, False, False, True, False, False, False, True, True, False, False, False, True, True, False, False, True, False, True, False, True, False, False, True, False, True, False, True, True, False, False, True, True, False, False, False, True, False, True, True, True, True, False, False, False, False, False, True, False, False, True, False, False, False, True, True, False, False, False, True, False, False, True, False, True, False, False, False, False, True, False, False, True, True, False, True, False, False, False, False, True, True, False, False, False, True, False, False, False, True, True, False, False, False, False, False, False, True, False, False, False, False, True, False, True, True, True, True, False, False, False, False, False, False, True, False, False, False, True, False, False, False, True, False, True, False, True, True, False, True, True, True, True, False, True, True, True, False, True, False, False, True, False, True, False, False, True, True, True, False, True, True, False, False, False, False, False, True, False, False, True, True, False, False, False, True, False, True, True, False, True, True, True, False, False, False, True, False, False, False, False, False, True, True, True, False, False, False, False, False, False, True, False, False, False, True, False, False, False, True, True, True, True, False, True, True, False, False, False, False, True, True, False, False, False, False, True, False, False, True, True, False, False, False, False, False, False, False, False, True, True, True, False, False, False, True, False, False, True, False, True, True, False, False, False, True, False, False, False, False, False, False, False, False, True, False, False, False, True, True, False, True, True, False, True, False, False, False, False, False, False, True, False, False, True, False, True, False, True, False, False, False, True, False, True, False, False, False, False, False, False, True, True, False, True, True, False, False, False, False, False, True, True, False, False, False, False, False, False, False, True, True, False, False, False, False, True, True, False, False, False, False, False, False, False, True, True, True, True, True, True, True, False, False, False, True, False, False, False, False, True, False, False, False, True, False, False, True, False, True, True, False, False, True, True, False, True, False, False, False, True, False, False, True, True, False, True, True, False, False, True, False, False, False, True, False, False, False, True, False, False, True, False, False, True, False, True, False, False, False, False, True, True, False, True, True, True, False, True, False, False, False, False, False, True, False, False, False, False, False, False, False, False, False, False, True, False, False, True, True, False, True, False, False, False, True, True, True, False, False, False, False, False, True, True, True, False, False, False, True, False, False, False, False, False, False, False, False, False, True, True, False, True, False, False, False, False, False, False, False, False, True, False, True, False, False, False, True, False, False, True, True, False, False, False, False, False, True, False, False, False, False, False, True, True, False, False, False, True, False, True, True, True, False, False, False, True, False, False, False, False, False, False, False, False, False, True, False, False, True, False, False, False, True, False, False, False, False, True, False, True, True, False, True, True, False, False, True, False, True, True, True, False, False, True, False, False, True, True, False, True, True, False, False, True, False, False, False, True, True, False, False, True, True, False, False, False, False, False, True, True, False, False, False, True, True, False, False, False, False, False, True, False, False, True, False, False, False, False, False, False, False, False, False, False, False, False, False, False, True, True, False, False, False, False, True, True, False, False, True, False, False, True, True, True, False, False, True, False, False, False, False, False, True, True, False, False, True, False, True, False, True, False, True, False, False, False, True, False, False, False, False, True, False, True, False, False, False, False, False, False, True, True, False, False, True, False, False, False, False, True, False, True, True, False, False, True, False, False, True, True, False, True, False, False, True, False, False, False, False, False, False, True, True, True, True, True, True, True, False, False, True, True, False, False, False, False, True, True, False, False, True, False, True, False, True, True, True, True, True, True, False, True, False, True, False, False, True, False, False, False, True, True, True, False, False, False, True, False, True, True, True, False, True, True, False, False, False, True, False, False, False, True, False, False, True, False, False, True, True, True, False, True, True, False, False, False, False, False, False, False, False, False, True, False, True, False, False, False, False, False, False, False, False, False, False, False, True, False, True, True, False, False, False, True, False, True, False, False, False, True, False, False, True, True, False, False, True, True, True, False, True, False, True, False, False, False, False, True, False, False, True, True, True, True, False, True, True, False, False, False, False, False, False, False, False, False, False, False, True, False, False, False, False, False, True, True, True, True, True, False, False, False, False, False, True, False, False, False, False, True, False, False, False, False, True, False, False, False, True, True, False, False, False, False, False, True, True, True, True, True, False, False, True, True, True, True, True, False, False, True, False, True, False, False, False, False, False, False, False, True, True, True, False, False, False, False, False, True, True, False, False, False, False, False, True, True, False, True, True, False, False, False, True, False, True, True, False, True, True, True, False, False, True, False, False, True, False, True, True, False, False, False, False, False, True, False, False, False, True, True, False, False, False, False, False, False, True, False, True, True, False, True, False, True, False, True, False, True, False, False, False, False, False, False, True, False, False, False, True, False, True, False, True, False, True, False, False, False, False, False, True, False, False, False, False, False, False, True, True, False, False, True, False, True, False, True, True, True, True, True, False, True, False, True, True, False, False, True, False, False, False, False, False, False, False, False, False, False, True, False, False, False, True, False, True, True, False, False, False, False, False, False, False, False, False, True, False, True, True, False, False, True, True, False, True, False, False, False, True, False, False, False, True, True, False, True, False, True, False, False, False, False, False, False, True, False, False, True, False, False, False, True, True, False, False, True, False, False, True, True, True, True, False, False, False, True, False, True, False, False, True, False, False, False, False, False, False, True, True, False, True, True, False, True, False, False, True, False, True, False, True, False, True, False, True, False, True, False, False, False, True, False, False, False, False, True, False, False, False, False, False, True, True, False, False, True, False, True, False, False, False, True, True, False, False, False, False, True, False, False, False, True, False, False, False, True, True, False, False, True, True, False, True, False, False, False, False, True, True, False, True, False, False, False, True, False, True, True, False, False, True, False, False, False, False, False, False, False, True, True, False, False, False, True, True, False, False, True, False, True, True, False, True, False, False, False, False, False, False, False, False, False, True, False, True, False, True, False, False, False, True, True, False, False, False, True, False, False, False, False, False, True, True, False, False, False, False, True, False, False, True, False, False, True, True, False, False, False, False, True, True, False, True, False, False, False, False, False, False, False, False, False, False, False, False, False, True, True, False, False, False, False, True, True, False, True, True, False, True, False, False, False, False, False, False, True, True, True, False, False, False, False, False, True, False, True, True, False, False, True, False, False, True, False, False, False, False, False, True, False, True, True, False, True, True, True, False, True, False, True, False, False, True, False, False, True, False, True, True, True, False, True, True, False, False, True, True, False, True, False, False, False, False, False, False, True, False, False, True, False, False, False, False, False, True, False, False, False, False, False, False, True, False, True, True, False, False, False, False, False, False, True, False, False, True, False, False, False, False, True, False, False, False, False, False, True, False, True, False, True, True, False, True, True, True, False, True, False, True, False, False, False, False, False, False, False, False, False, True, True, False, True, False, True, False, False, True, False, True, False, True, False, False, False, True, False, False, False, True, True, False, False, False, False, False, False, False, True, False, True, True, True, False, False, True, False, False, False, True, False, True, False, False, True, False, False, False, True, False, False, False, True, False, False, False, False, False, True, False, False, False, False, True, False, False, True, True, False, False, False, True, True, False, False, True, False, True, False, False, False, False, True, False, True, False, True, False, True, False, True, False, True, False, False, True, False, True, True, False, True, True, False, False, False, False, False, True, True, True, True, False, True, False, True, False, False, False, False, True, True, False, False, False, False, True, False, True, True, False, True, False, True, False, True, False, False, False, False, False, True, False, False, False, True, False, False, True, False, False, True, False, False, False, False, False, True, True, False, False, False, False, False, False, True, False, True, False, True, False, False, False, False, True, False, False, False, False, False, False, True, True, False, True, False, False, False, False, False, True, False, False, True, False, False, False, False, False, True, False, False, True, False, True, False, False, True, True, False, True, False, True, False, False, False, False, False, False, False, False, True, False, True, False, False, False, False, False, False, False, False, True, False, False, False, False, True, True, True, True, False, False, False, False, False, True, True, True, False, False, False, False, True, False, True, False, False, True, True, True, True, False, False, False, False, False, True, False, True, True, False, True, True, False, True, False, False, False, True, False, True, True, False, False, False, True, False, False, False, True, True, False, False, True, False, False, False, False, False, True, False, True, False, False, True, False, True, False, True, True, False, True, False, False, False, True, False, True, True, False, True, False, True, False, False, True, True, True, False, False, False, False, False, False, False, True, False, True, False, True, True, False, True, False, True, False, True, False, False, False, False, True, False, True, False, False, False, False, False, False, False, False, True, False, True, False, False, False, True, False, True, False, False, True, False, False, False, False, True, False, True, False, True, False, False, True, True, True, False, False, True, False, False, True, True, True, True, False, False, False, False, True, True, False, False, True, False, False, False, False, True, True, False, False, False, False, False, True, True, True, True, False, False, True, False, True, False, True, False, False, True, False, False, False, True, True, True, False, False, False, False, False, True, False, False, False, True, True, False, True, False, True, False, False, True, False, False, False, False, True, True, True, True, False, False, False, False, True, False, False, True, False, False, False, False, True, False, True, False, False, False, True, False, False, True, True, False, True, False, False, True, False, False, False, True, True, True, True, False, False, False, False, False, True, True, True, True, False, True, True, True, True, True, False, False, False, False, True, True, False, True, True, True, False, False, False, False, False, False, True, False, False, True, False, True, True, False, True, False, False, False, False, False, False, True, True, False, False, False, False, True, False, False, True, True, True, True, False, False, False, True, False, False, True, False, True, False, False, False, False, False, True, False, False, False, True, False, True, True, True, False, False, True, False, False, True, False, False, False, False, False, True, False, True, True, False, False, False, False, False, False, False, False, False, False, True, True, False, True, False, False, True, False, False, False, True, False, False, False, False, True, True, True, False, True, False, True, False, False, True, True, False, True, False, True, True, False, False, True, False, False, True, True, False, True, False, False, False, True, False, True, True, True, True, True, False, False, True, False, False, False, False, False, False, True, False, True, False, False, True, False, True, False, True, True, False, False, False, True, False, False, False, False, True, False, True, False, False, True, False, True, False, False, False, True, False, False, False, False, False, False, False, True, False, False, False, False, False, False, False, True, False, True, False, False, True, True, True, False, False, False, True, True, False, False, False, True, False, False, True, True, True, False, False, True, True, False, True, False, True, False, False, True, True, False, False, True, False, False, True, True, False, False, False, True, False, False, False, True, True, True, True, False, False, True, True, False, False, False, True, False, False, False, False, True, False, False, True, True, True, True, False, True, False, False, False, False, True, False, False, False, True, False, False, True, True, True, False, False, False, False, False, False, False, True, False, False, True, False, False, True, False, True, False, False, False, True, True, True, False, True, True, False, False, True, False, False, False, False, False, True, False, True, True, False, False, True, False, False, True, True, True, False, True, True, False, False, False, False, True, False, True, True, True, False, False, False, True, False, True, True, False, False, False, True, False, True, True, False, False, True, True, True, False, True, False, True, False, True, True, False, False, False, True, True, False, False, False, False, True, False, False, False, True, False, False, True, True, False, False, True, False, False, False, False, False, False, True, False, True, False, True, False, True, False, False, True, False, True, False, False, False, True, False, True, True, False, True, False, False, False, False, True, False, True, False, False, False, False, False, False, False, False, True, True, False, False, False, True, False, False, False, False, False, True, False, True, True, False, True, False, True, False, True, False, True, False, False, True, False, False, True, False, False, False, True, True, False, False, True, True, False, False, False, False, False, False, True, True, True, False, True, False, False, True, False, True, False, True, True, False, False, False, False, False, True, False, False, False, True, True, False, True, False, False, False, True, False, False, False, False, False, False, False, False, True, False, False, True, True, False, False, False, True, False, False, False, False, False, True, True, True, False, False, False, True, True, False, True, False, False, True, False, False, False, False, True, False, False, False, False, False, False, True, False, False, False, True, False, True, True, False, False, True, False, False, True, False, False, False, False, True, True, False, True, True, False, True, False, False, False, False, False, False, True, False, False, False, True, False, False, False, False, True, False, True, True, True, False, True, True, False, False, False, True, True, False, False, False, True, True, False, False, False, True, True, False, False, False, False, True, True, False, False, False, False, True, True, True, False, True, True, True, False, False, True, False, False, False, True, False, False, True, False, True, False, True, False, False, False, False, True, True, False, True, True, False, False, False, False, False, False, False, False, True, True, True, True, False, True, True, False, False, False, False, False, False, True, False, False, False, False, True, False, False, True, False, True, False, True, False, False, False, False, False, False, False, True, True, False, False, True, False, False, False, False, False, False, True, False, True, True, False, False, False, False, False, True, True, False, False, False, True, False, True, True, False, False, True, False, True, False, False, False, False, False, False, False, False, False, True, False, False, True, False, True, False, False, False, True, False, False, True, False, False, False, False, True, False, False, True, False, False, True, False, False, False, False, False, False, True, True, False, True, True, False, False, False, False, False, False, False, True, False, False, True, False, False, True, False, True, True, True, True, False, True, False, False, True, False, True, True, False, False, True, False, False, False, False, False, True, True, False, False, False, True, False, True, False, False, True, True, False, False, True, True, False, False, True, False, False, False, False, True, True, False, False, False, True, True, False, True, False, False, False, False, True, False, False, False, True, False, False, False, True, False, False, False, False, False, True, False, True, True, False, True, True, False, False, False, False, False, True, False, False, False, False, False, False, True, False, False, True, False, False, True, False, False, False, False, True, False, False, False, True, False, True, True, True, False, False, True, False, True, False, True, False, True, False, True, False, False, False, False, False, False, False, False, True, False, True, False, False, True, True, False, False, True, True, False, True, False, False, True, True, True, False, False, True, False, False, True, False, True, True, False, False, False, True, True, False, True, True, True, False, True, True, True, False, True, False, False, False, False, False, True, True, False, True, True, False, True, False, False, False, False, True, True, True, False, False, True, True, True, False, False, False, False, False, False, True, False, True, False, False, True, False, False, False, True, False, False, True, False, True, False, True, False, True, False, False, False, True, True, False, False, True, False, False, True, True, False, False, False, False, False, False, False, True, False, False, False, True, False, False, False, False, True, False, True, False, True, False, False, False, False, False, False, False, False, True, False, False, False, True, False, False, False, False, False, False, False, False, True, False, True, False, True, True, False, False, True, False, True, True, False, False, True, False, False, True, False, False, True, True, True, False, False, True, True, True, False, True, False, False, True, True, False, False, False, False, False, False, False, True, True, False, False, True, True, False, False, False, True, False, False, False, False, False, True, False, True, False, True, False, False, True, True, False, True, False, False, False, False, False, False, False, True, True, False, True, False, False, False, True, True, False, True, False, True, True, False, True, True, True, False, False, False, False, True, False, False, False, False, False, True, True, False, True, False, False, True, False, False, False, True, False, False, False, True, False, True, True, True, False, True, False, False, False, True, False, False, True, True, False, False, False, True, True, False, False, True, False, False, False, False, True, False, False, False, False, False, False, True, False, False, False, False, True, True, False, True, True, False, False, True, True, True, True, True, True, True, False, True, False, False, False, True, False, True, True, False, False, False, False, False, True, True, False, False, False, False, True, True, False, False, False, False, True, False, True, False, False, False, True, True, True, False, False, False, False, False, True, False, False, True, False, False, True, True, True, True, True, True, False, True, False, True, True, True, True, False, True, True, False, True, False, True, False, True, True, False, False, False, False, False, False, False, False, True, True, False, False, False, True, False, False, False, False, False, False, False, False, False, False, True, True, False, False, False, True, False, True, True, False, False, False, False, False, False, True, False, True, True, True, True, True, True, False, False, False, False, False, True, False, True, False, True, True, False, True, True, False, False, False, True, False, False, False, False, False, True, False, False, False, True, True, True, True, True, False, False, False, False, False, False, False, True, False, False, False, False, False, True, False, True, True, True, False, True, False, True, True, False, False, True, False, True, False, True, True, False, False, True, False, False, True, False, True, True, False, False, False, False, False, True, True, False, False, True, False, False, False, True, False, True, True, False, True, True, False, False, True, True, False, False, True, False, True, False, True, False, False, False, False, True, False, True, True, False, False, True, False, False, False, True, True, False, False, False, True, False, True, False, True, True, True, True, False, False, True, False, False, False, False, False, True, False, True, True, True, False, True, True, False, False, False, False, True, True, True, False, True, True, True, False, False, False, True, False, False, False, False, True, False, False, False, False, False, False, False, False, False, False, True, False, True, False, True, False, True, False, True, True, False, False, False, True, False, False, True, False, False, False, True, False, True, False, False, True, True, False, False, False, False, False, False, False, False, True, True, True, True, False, False, True, True, False, False, False, True, True, False, True, False, True, False, True, False, False, True, False, False, False, True, True, False, False, False, False, True, False, True, False, True, False, True, False, False, False, False, True, False, True, False, True, False, False, False, True, False, False, True, True, False, True, False, False, False, False, False, False, False, False, False, False, True, False, False, False, False, False, False, False, True, True, False, False, False, False, True, False, True, False, False, False, True, False, False, True, False, True, True, True, False, False, True, False, True, True, False, True, True, True, False, True, False, True, False, False, False, True, False, True, False, False, False, True, False, False, True, False, False, False, False, False, True, True, True, False, True, False, True, False, True, False, False, False, True, True, False, False, False, False, True, False, False, False, False, True, False, False, False, False, False, False, False, True, True, True, True, False, False, True, True, True, False, True, True, True, True, True, True, True, True, True, True, True, False, False, False, True, True, True, False, False, False, True, True, False, False, False, False, False, False, False, False, False, True, False, True, False, True, True, False, False, False, True, False, False, True, False, True, False, True, True, True, False, True, True, True, False, False, True, False, False, True, False, False, False, False, False, False, True, False, True, True, True, False, False, False, False, False, True, False, True, True, False, False, False, False, False, False, True, True, True, False, True, True, False, False, False, False, True, False, True, False, False, False, True, True, True, False, True, True, False, True, False, True, False, False, False, False, False, False, False, False, False, True, True, False, False, False, False, True, True, False, True, False, False, True, False, False, True, False, False, True, False, True, True, True, False, False, True, True, False, False, False, True, False, True, False, False, False, True, True, True, False, False, True, False, True, False, True, False, True, False, True, False, False, False, True, False, False, False, False, True, True, False, False, False, True, False, False, False, True, False, False, False, False, False, False, True, False, False, False, True, True, False, True, False, False, True, True, True, False, False, False, True, True, False, True, False, True, False, True, False, False, True, True, False, True, False, False, False, False, False, False, False, False, False, False, False, False, True, False, False, False, False, True, False, False, False, True, True, True, False, True, False, False, True, True, False, False, False, False, False, True, False, False, False, True, True, False, True, False, True, True, False, False, False, False, True, True, True, False, True, True, False, False, True, False, False, True, False, False, False, False, False, False, False, False, False, True, True, True, True, False, True, False, True, False, True, True, True, False, False, False, True, False, True, False, False, True, False, True, False, True, True, False, False, True, True, False, False, False, True, False, False, False, False, True, True, False, False, False, True, True, False, True, False, True, False, False, True, False, False, False, False, False, True, False, True, False, True, True, False, False, True, False, True, True, True, False, True, False, False, False, False, True, False, True, False, False, False, False, False, False, True, True, False, True, True, False, False, True, False, False, False, False, False, False, True, False, False, True, False, True, True, False, True, False, False, False, False, False, True, False, False, False, False, False, False, True, False, False, False, True, False, False, False, False, True, True, False, True, True, True, False, True, True, True, False, False, False, True, True, False, False, False, False, True, False, False, False, False, False, False, False, True, False, False, True, False, False, False, True, True, False, False, False, True, False, False, False, False, False, False, False, False, True, False, False, False, True, False, False, False, True, False, False, False, True, False, False, True, True, False, True, False, True, False, True, True, False, False, False, False, True, False, False, False, True, False, False, False, False, False, True, True, False, True, False, True, True, False, True, True, False, True, True, False, False, True, True, True, True, False, True, False, False, False, True, False, True, False, True, False, True, False, True, False, False, False, False, True, False, True, False, True, True, True, False, True, False, False, False, True, False, False, True, True, False, True, True, False, True, False, False, False, True, True, True, False, False, True, False, False, False, False, True, False, False, False, False, False, False, False, True, False, True, False, False, False, True, True, False, True, False, False, True, False, False, False, False, True, True, False, False, True, False, True, True, True, True, True, True, True, True, False, False, False, True, True, False, True, True, True, True, False, True, True, False, False, True, False, True, False, False, True, True, False, False, True, False, True, False, False, False, False, True, True, False, False, False, False, False, False, True, True, False, False, False, False, False, False, True, False, False, False, True, False, False, False, False, False, True, False, True, True, False, True, False, False, False, False, True, False, False, False, False, True, False, False, False, True, True, False, False, False, False, False, False, True, False, False, True, False, False, False, True, False, False, False, False, True, True, False, False, False, False, False, True, False, False, False, False, False, True, False, True, True, False, False, True, True, False, False, False, False, True, True, True, True, False, True, False, False, False, True, False, False, False, False, True, True, False, False, False, True, False, True, False, False, True, False, False, True, False, False, False, True, False, True, True, True, False, True, True, False, True, False, False, False, False, True, True, True, True, False, False, False, True, True, False, False, True, True, False, False, False, True, True, True, True, False, True, True, False, True, False, False, False, True, False, False, True, False, False, False, True, True, False, True, True, False, False, True, False, False, False, False, False, True, True, False, True, False, False, False, False, False, True, True, False, False, False, False, False, False, False, False, True, False, False, False, True, False, True, True, False, False, False, True, True, True, False, False, False, False, False, True, True, False, True, True, True, False, True, False, False, False, False, False, True, True, False, True, True, False, True, False, False, False, False, True, False, True, True, False, False, True, False, True, False, False, False, True, False, True, True, False, False, False, False, False, False, False, True, True, True, True, False, True, True, False, False, True, False, False, False, False, False, False, True, False, True, False, True, True, False, False, True, True, False, True, False, False, True, False, True, False, False, True, True, True, False, False, False, False, False, False, True, False, False, False, False, False, False, False, True, False, True, True, False, True, False, False, False, False, True, False, False, False, False, True, False, True, False, False, False, False, False, True, False, False, False, True, False, True, False, False, False, False, True, True, False, True, False, False, True, True, False, False, False, True, True, False, True, True, False, False, False, True, True, False, False, True, True, False, False, True, False, False, False, True, True, False, False, True, False, False, True, True, False, True, True, True, True, False, False, False, False, False, True, True, False, True, False, False, True, False, False, False, True, False, False, False, False, False, False, True, False, True, False, False, False, False, True, False, False, True, False, False, False, True, True, True, True, True, False, False, True, False, False, False, False, False, True, True, False, True, False, True, True, False, False, False, False, True, False, False, False, True, False, True, False, True, False, False, False, True, False, False, False, True, False, False, False, True, False, True, True, True, False, False, True, False, False, True, True, False, False, True, False, False, False, True, False, False, True, True, True, True, False, False, False, False, False, True, False, False, False, False, False, False, False, False, False, False, False, False, True, False, True, True, False, False, True, False, True, True, False, False, False, False, True, False, False, True, True, True, False, True, True, True, True, True, False, False, False, True, True, False, True, True, True, False, True, False, False, True, False, False, False, False, False, True, False, False, False, True, False, False, False, False, False, True, False, False, False, False, True, False, False, False, False, False, True, True, True, False, True, False, True, False, False, True, False, False, False, False, False, False, True, False, True, False, True, False, False, True, False, False, False, True, False, True, False, False, False, True, True, True, True, False, False, False, False, False, False, False, True, False, False, False, False, True, False, False, False, True, False, False, False, True, False, False, False, False, False, False, True, False, False, True, True, False, False, True, False, False, False, True, False, True, False, False, False, False, False, True, False, False, True, True, False, False, True, True, False, True, True, False, False, True, False, False, False, True, False, True, False, False, True, False, False, False, True, False, False, False, True, False, False, True, False, True, True, True, True, False, False, True, False, False, False, False, False, False, False, False, False, False, True, True, False, False, True, False, True, True, False, False, False, True, True, False, True, False, True, True, False, True, True, False, False, False, False, True, True, False, False, True, False, False, False, False, False, False, False, True, False, False, True, False, True, True, False, False, False, True, False, True, False, False, False, False, False, False, True, True, True, True, False, False, False, False, True, False, True, False, False, False, False, False, True, False, False, True, False, False, False, False, True, False, False, True, False, False, False, False, True, True, False, False, False, True, False, False, True, True, False, False, True, False, False, False, True, True, False, False, False, False, False, False, False, True, False, False, False, False, False, False, True, True, False, False, True, True, False, True, True, False, False, True, True, False, False, True, True, False, True, True, True, True, False, False, False, False, False, False, False, False, True, True, False, False, False, False, False, True, False, False, False, True, True, False, False, False, False, False, False, True, False, False, False, False, False, False, False, False, True, True, True, True, True, True, False, True, True, False, False, True, True, False, False, True, True, True, False, True, False, False, False, False, False, False, False, True, False, True, False, False, True, False, True, False, False, False, False, True, True, False, False, False, True, False, False, False, False, True, False, False, True, False, False, True, False, False, True, False, False, False, True, False, False, False, False, False, False, False, True, False, True, True, False, False, False, True, False, True, True, False, False, False, False, False, False, False, False, True, False, False, False, True, True, False, False, True, True, True, False, False, False, True, True, False, True, False, True, True, False, False, False, False, False, False, False, False, False, False, False, False, False, False, False, False, True, False, False, False, False, True, True, False, True, True, True, True, True, False, True, False, False, False, True, False, False, False, False, False, False, True, False, False, False, True, False, False, False, False, False, True, False, False, False, False, True, False, True, False, True, False, False, False, False, True, True, True, False, False, False, True, False, False, False, False, True, True, False, False, False, False, False, False, False, True, False, True, True, True, False, False, True, False, True, False, False, False, True, False, True, True, True, False, True, False, True, True, True, True, False, False, True, False, False, False, False, False, False, False, False, True, True, False, True, True, False, False, False, False, False, False, True, True, False, False, False, True, True, False, False, True, True, False, True, True, False, False, False, False, False, True, True, False, False, True, True, False, False, True, True, False, True, False, False, True, True, True, False, False, False, True, False, False, False, False, False, False, False, True, False, False, True, False, True, False, True, False, False, True, False, False, False, False, False, True, True, True, False, False, False, True, True, True, False, False, False, False, True, False, False, True, False, False, True, False, False, True, False, True, False, False, True, True, False, False, False, True, False, True, True, False, True, True, False, True, True, False, False, True, False, False, True, False, False, True, True, True, False, False, False, False, False, True, False, False, True, False, False, False, False, True, False, False, False, False, False, False, True, False, False, True, True, True, True, False, True, True, True, False, True, False, False, True, False, False, False, False, True, False, True, True, False, False, False, False, True, True, False, False, False, False, True, False, False, False, True, True, False, True, True, False, False, True, False, False, False, False, False, False, False, False, True, False, False, True, False, True, False, True, False, False, True, False, False, True, False, False, True, True, False, True, True, True, True, False, True, False, True, False, False, False, False, False, False, False, True, False, False, False, False, False, False, False, False, True, True, True, True, True, True, False, True, True, True, True, True, False, False, False, True, True, False, False, True, False, True, True, False, False, True, False, False, True, False, True, True, False, False, True, True, False, False, False, False, True, False, False, True, False, False, False, True, False, True, True, False, True, False, True, False, True, False, True, False, False, True, True, True, True, False, False, True, False, True, True, False, False, False, False, False, True, False, True, False, True, True, False, True, True, False, False, True, False, True, True, True, False, False, False, True, False, True, False, False, True, False, True, False, True, True, False, False, True, False, True, True, False, False, False, True, True, False, True, True, True, False, False, True, True, True, True, True, True, True, False, False, False, False, False, True, False, False, True, False, False, True, False, True, False, True, True, False, True, False, True, False, False, True, True, False, False, True, False, False, False, False, False, False, True, True, True, True, False, True, False, False, False, False, False, False, False, True, True, False, False, False, False, False, False, False, True, True, True, False, True, False, True, False, False, False, True, False, False, True, False, False, False, True, True, True, False, True, True, True, False, False, True, True, True, False, False, True, True, True, True, False, False, True, True, False, True, False, False, False, False, True, False, False, True, False, False, False, False, False, True, False, True, False, False, True, True, False, False, True, True, False, True, False, False, True, True, True, False, False, False, False, True, False, False, True, True, False, True, True, True, False, False, False, False, True, True, True, False, True, False, True, False, True, False, True, False, True, False, False, True, True, False, True, False, True, False, False, True, False, True, True, False, False, True, False, False, True, False, True, False, True, True, False, False, False, False, False, False, False, False, False, True, True, True, True, False, False, True, True, True, False, True, False, False, True, True, True, False, False, False, False, False, True, True, True, False, True, True, True, False, False, False, False, False, False, True, False, False, True, True, True, True, True, False, False, False, False, True, True, True, True, False, False, True, True, True, False, False, False, False, False, True, True, False, False, False, True, False, True, True, False, False, False, False, False, False, False, True, True, False, False, True, False, True, False, False, False, True, True, False, False, False, True, False, False, True, True, False, False, False, False, False, False, False, False, False, True, False, True, True, True, False, False, False, False, True, False, False, False, False, False, False, False, True, False, True, True, False, True, False, True, False, True, True, False, False, False, False, False, False, False, False, False, False, False, False, False, False, False, False, False, False, False, False, True, False, True, True, True, False, True, False, True, True, False, False, False, True, True, True, False, False, False, False, False, True, False, True, False, False, True, False, True, False, False, True, True, True, False, False, True, True, False, False, True, True, False, False, True, True, False, False, False, False, True, True, False, False, False, False, False, False, False, True, False, False, True, False, False, True, True, False, False, True, False, False, False, False, True, False, False, True, False, True, True, False, True, False, False, True, False, False, True, False, True, True, False, True, True, True, False, True, False, False, True, False, False, True, False, True, True, False, True, True, False, True, True, False, False, True, False, True, False, True, False, False, False, True, False, False, False, True, True, False, False, True, True, False, False, False, False, True, True, True, False, True, True, False, False, False, False, False, False, False, True, True, False, True, False, False, False, False, False, False, True, True, True, False, False, False, False, True, False, True, False, True, False, False, True, False, False, False, True, False, False, True, False, True, False, True, False, False, False, True, False, True, True, False, True, True, True, False, True, False, True, False, False, True, False, False, True, False, False, False, False, False, False, True, False, False, False, True, False, False, False, True, True, True, False, True, True, False, True, False, True, False, True, True, False, False, True, True, False, True, False, True, False, True, True, True, False, True, False, True, False, False, True, True, True, True, False, False, True, False, True, True, True, False, False, False, False, True, True, False, False, False, False, False, False, True, True, False, False, False, True, True, True, True, True, False, False, True, False, False, False, False, False, True, False, True, True, False, True, False, False, True, False, False, False, False, True, False, False, False, False, False, False, False, True, False, False, False, True, False, False, False, False, True, True, True, False, False, False, True, True, False, True, True, False, True, False, True, True, True, False, False, False, True, False, False, False, False, False, False, True, True, False, True, True, False, False, False, False, False, False, False, False, False, False, True, False, False, False, False, True, True, False, True, False, False, True, False, False, False, True, False, False, False, False, False, True, True, False, True, False, False, False, False, False, False, False, False, True, False, True, True, False, False, True, True, False, False, False, True, True, True, False, True, False, False, False, False, True, False, True, False, False, False, False, True, False, True, False, False, False, False, False, True, True, False, False, False, True, False, True, False, True, False, False, False, True, True, False, False, False, False, True, True, False, False, True, False, True, False, False, False, False, False, False, False, False, False, True, False, True, False, False, False, True, True, False, True, True, False, False, True, False, False, True, True, True, True, True, False, False, True, True, False, False, False, False, True, False, False, False, False, True, False, False, False, True, True, False, True, True, False, True, False, True, True, False, False, True, False, True, True, True, True, False, False, False, True, True, True, False, False, False, False, True, False, False, True, False, False, True, False, False, False, True, True, False, True, True, False, False, False, True, False, False, False, False, False, True, False, True, False, True, False, False, False, False, False, True, True, False, False, False, False, True, False, True, False, True, True, False, True, True, True, False, False, True, False, False, False, False, True, False, True, True, False, True, False, True, False, False, False, True, False, False, False, False, False, False, False, False, False, True, True, True, False, True, False, False, False, False, True, False, False, True, True, False, False, False, True, False, False, False, False, False, False, False, True, False, False, False, False, True, True, False, True, False, False, False, True, True, False, True, False, False, False, False, False, False, False, True, False, True, False, True, False, True, False, False, True, True, True, False, True, False, True, True, False, False, True, True, False, False, True, False, True, False, True, False, False, True, False, True, True, True, False, False, False, False, False, False, False, False, False, False, True, True, True, False, False, False, False, False, True, False, True, True, False, True, True, True, False, True, True, True, False, False, True, True, True, False, False, False, True, False, False, False, False, False, False, False, True, False, False, True, True, True, False, False, True, True, True, True, False, False, False, False, False, False, False, False, True, False, True, False, False, False, True, False, False, True, False, True, True, False, False, False, False, False, False, False, True, False, True, False, False, True, False, False, False, False, False, True, False, False, True, False, False, True, False, True, True, False, False, False, False, True, True, True, False, False, False, False, False, False, True, False, False, True, False, False, False, False, False, True, True, True, False, False, False, False, True, True, False, False, True, False, False, False, True, True, False, False, True, False, False, False, False, False, False, False, False, False, True, False, False, False, True, False, False, True, False, False, False, True, False, False, False, True, False, False, False, False, False, True, True, False, True, False, False, False, False, True, False, True, True, False, True, True, False, False, True, False, False, False, True, False, False, True, True, True, False, False, False, False, True, False, False, False, False, True, True, False, True, True, True, False, False, True, True, True, True, False, False, True, True, True, True, False, True, False, True, False, True, True, False, False, False, False, False, False, False, True, False, True, False, False, True, False, False, False, False, False, True, True, True, False, False, True, False, False, False, False, False, False, True, True, False, False, False, True, False, False, False, True, True, False, True, True, False, True, True, False, False, False, False, True, True, False, False, False, False, False, True, False, False, False, False, False, True, False, False, False, False, True, False, False, True, False, True, False, False, False, True, False, False, True, False, True, False, True, False, True, True, False, False, False, False, True, False, False, True, False, False, False, False, True, False, False, False, True, True, True, True, True, False, False, False, False, False, False, True, True, False, False, False, True, False, True, True, False, False, False, False, True, True, True, False, False, False, True, False, False, False, False, True, False, True, False, False, True, False, False, True, True, True, True, False, False, True, False, False, False, True, True, False, True, False, False, True, True, False, True, True, True, False, False, False, False, False, True, False, False, True, False, False, True, False, False, True, False, False, False, False, False, True, False, True, False, False, False, True, True, False, True, True, False, True, True, False, False, False, False, True, False, True, False, True, False, False, True, False, False, False, False, True, True, False, False, True, True, False, False, True, True, False, True, False, True, True, True, False, False, False, False, False, False, False, False, True, False, True, False, False, True, True, False, False, True, True, False, False, False, False, True, False, False, True, True, False, True, False, False, False, False, False, False, False, False, False, False, False, False, False, True, False, False, False, False, True, False, False, True, True, False, False, False, False, True, False, False, True, True, True, True, False, False, True, False, False, False, False, True, True, False, True, False, True, False, False, False, False, True, True, False, False, False, False, True, False, False, True, True, False, False, False, True, True, True, True, True, True, False, False, True, True, False, True, False, True, False, False, False, False, False, False, False, False, False, False, True, True, True, False, True, False, False, True, False, True, True, False, True, False, True, False, False, True, True, False, True, True, True, True, False, False, False, False, False, True, False, True, True, True, True, True, False, False, False, True, True, True, False, False, True, False, False, True, False, False, True, False, True, False, True, False, True, True, False, True, True, True, True, False, False, False, False, False, True, True, False, False, False, False, False, False, False, False, True, False, True, True, False, False, True, True, False, False, True, False, True, True, True, True, True, False, True, True, False, False, False, False, False, True, True, False, False, False, True, False, False, True, False, False, True, True, False, False, False, False, True, False, True, False, True, False, True, True, False, False, False, False, False, True, True, False, True, False, False, False, False, False, True, True, True, True, False, True, False, True, True, True, False, False, False, True, False, False, False, False, False, False, False, False, True, False, False, False, False, False, False, False, True, True, True, False, True, False, False, True, False, False, False, False, True, False, True, False, True, False, True, False, False, False, True, False, True, True, False, True, True, True, False, True, True, True, True, False, False, False, False, True, True, False, False, False, False, False, False, True, True, False, True, False, False, True, False, False, False, True, False, False, False, False, False, False, False, True, False, True, False, False, True, False, False, True, False, False, False, True, True, False, False, True, False, False, False, True, False, False, False, False, False, True, True, False, False, True, False, False, True, False, True, True, False, False, False, True, False, True, False, False, False, False, False, False, False, False, False, False, False, False, True, False, False, True, False, False, False, True, True, True, True, False, True, True, False, False, False, False, False, True, False, False, False, False, False, False, True, False, False, True, False, False, True, False, True, False, False, True, True, False, True, True, False, False, True, False, True, True, True, False, True, False, False, False, True, False, True, True, False, True, True, False, False, False, False, True, False, False, False, True, False, True, True, False, False, False, False, False, True, True, False, False, False, False, False, True, False, False, True, False, False, False, False, False, False, False, True, False, False, True, False, False, True, False, False, True, False, False, True, True, False, False, False, True, False, False, False, False, False, False, False, False, True, False, False, False, False, False, True, True, True, False, False, True, False, True, True, True, False, True, False, True, True, True, False, False, True, False, True, False, False, False, False, False, False, True, False, False, True, True, True, True, False, True, False, False, False, True, True, False, False, False, False, True, True, False, False, True, True, False, False, False, False, True, True, False, False, False, False, True, True, False, False, True, True, True, True, False, False, False, False, True, True, True, False, False, False, False, False, False, False, True, True, False, True, False, False, False, True, True, False, False, True, True, False, False, True, False, False, True, True, False, True, True, False, True, False, False, False, True, True, False, False, False, False, False, False, True, True, True, True, True, False, False, True, False, True, True, False, True, False, False, False, False, False, False, False, False, False, True, True, True, False, True, False, True, True, False, False, True, False, True, False, True, True, False, False, False, False, True, True, False, True, False, False, False, False, False, False, False, False, True, False, False, False, False, True, True, False, True, False, True, True, True, False, False, False, True, False, False, True, True, False, True, False, True, True, False, True, True, False, False, True, False, True, True, False, True, False, False, False, False, False, False, False, False, False, True, False, False, False, True, False, False, True, False, False, False, False, False, False, False, True, True, False, True, True, True, False, False, False, False, False, True, True, True, False, True, False, False, False, False, False, False, False, False, False, False, False, False, False, True, False, False, False, False, False, False, False, False, False, False, True, True, True, False, True, True, True, False, False, True, False, False, False, True, False, True, False, False, False, True, False, False, False, False, False, True, True, True, True, False, False, True, True, True, False, True, True, True, False, False, False, False, True, False, True, False, False, False, True, False, False, False, False, True, True, False, True, False, False, True, True, False, True, True, False, True, True, True, False, False, False, False, False, False, False, True, True, False, True, False, False, False, False, True, False, False, True, True, False, False, True, False, False, False, False, False, False, False, True, True, True, False, True, False, False, True, False, False, True, True, False, True, False, False, False, True, False, False, False, False, False, False, False, True, True, False, False, False, False, False, False, False, True, True, True, False, False, False, False, False, True, True, True, False, False, True, True, False, True, True, False, False, True, True, False, True, True, False, False, False, False, False, True, True, False, True, True, True, False, False, True, False, True, True, False, False, True, False, False, False, False, False, True, True, True, True, True, False, False, False, True, False, False, False, False, False, False, False, True, False, False, False, True, True, True, True, False, False, True, False, True, False, True, True, True, False, False, True, True, True, True, True, True, False, False, True, False, False, True, False, False, False, False, True, True, False, True, False, False, True, True, True, True, True, False, True, False, True, True, True, False, False, False, True, True, False, False, True, True, True, True, False, False, False, False, False, True, False, False, True, True, True, True, True, True, False, False, False, True, False, True, False, False, False, True, False, True, False, False, False, True, True, False, False, False, False, True, False, True, True, False, True, False, True, False, False, False, False, False, False, True, False, True, False, True, False, False, False, True, True, True, False, False, True, True, True, True, False, True, True, True, True, True, True, True, True, False, False, True, True, False, False, False, True, True, False, False, False, True, True, False, False, False, True, True, True, False, False, False, True, False, False, False, False, False, False, False, True, True, False, True, False, True, True, True, False, False, False, True, True, False, False, True, True, False, True, False, True, True, False, False, False, False, True, False, True, False, True, False, False, False, True, True, False, True, False, False, True, False, False, False, False, True, False, False, True, False, False, True, False, False, False, True, False, True, False, False, True, True, False, False, False, False, True, False, False, False, True, False, False, True, True, False, True, False, True, True, False, False, True, False, False, False, False, True, True, False, True, False, False, True, False, False, False, False, False, True, True, True, True, True, True, False, False, True, True, False, False, True, False, False, False, True, False, True, True, False, False, False, False, True, False, False, True, True, False, True, False, False, False, False, True, False, False, False, True, True, False, True, True, False, True, True, False, False, False, True, True, False, False, False, False, True, True, False, False, False, True, True, False, False, False, True, True, False, True, False, False, False, False, False, False, True, False, False, False, False, False, True, False, True, True, False, False, True, False, False, False, True, True, False, True, True, False, True, False, False, True, True, False, False, False, False, False, False, False, False, False, False, False, False, False, False, False, False, False, False, False, True, False, True, False, True, False, False, False, False, False, True, True, False, True, False, False, False, False, True, False, True, True, True, True, True, False, False, False, True, False, False, True, False, False, False, False, False, False, True, False, False, False, False, False, True, False, True, False, True, True, False, False, True, True, True, False, True, True, False, False, False, True, True, True, True, False, False, True, False, True, True, False, False, True, True, False, True, False, False, True, False, False, True, False, False, True, False, True, False, False, False, True, True, True, True, False, False, False, False, True, False, True, False, True, True, False, False, False, False, True, True, True, False, False, False, False, False, False, False, True, False, False, True, False, False, False, True, False, True, True, True, False, True, False, True, False, True, False, False, True, False, True, False, True, True, False, True, False, False, True, False, True, False, True, True, False, True, True, True, True, False, True, False, True, True, True, False, False, False, True, False, True, False, True, True, False, False, False, False, False, False, False, True, False, False, False, False, False, True, False, False, False, False, False, False, False, False, False, False, False, True, False, False, False, True, False, False, False, True, False, True, True, True, False, True, True, False, True, False, True, False, False, False, False, False, False, True, False, False, False, False, False, True, False, False, False, False, False, False, True, False, True, False, False, False, True, False, True, True, False, False, False, False, False, False, False, True, True, False, True, False, False, False, False, False, False, False, False, True, False, True, False, False, False, True, True, False, False, False, True, False, True, True, False, False, True, False, True, False, False, False, True, True, False, False, False, True, True, False, False, False, False, False, False, False, False, False, True, True, True, False, False, True, False, False, False, True, False, True, False, False, True, True, False, False, False, False, True, False, True, False, False, False, False, False, True, True, False, False, False, True, False, True, False, True, False, True, False, True, False, False, False, False, False, False, True, False, False, True, False, False, True, True, False, False, True, False, True, True, True, False, False, True, True, False, False, False, False, False, False, False, False, False, True, True, True, False, True, True, True, True, False, True, False, True, True, False, True, True, False, False, False, False, True, False, True, False, False, False, True, False, False, False, False, True, False, True, False, False, False, True, False, True, False, False, False, False, True, True, False, False, False, True, False, False, True, False, False, False, True, True, False, False, False, False, True, False, False, True, True, False, False, True, True, False, False, False, True, True, True, False, False, False, False, False, False, False, False, True, True, False, True, False, True, False, True, False, False, True, True, False, False, True, True, False, False, False, True, False, False, False, True, True, False, False, True, False, True, False, False, True, False, True, False, False, True, True, False, False, False, True, True, False, True, True, False, False, True, False, False, False, False, False, True, True, False, False, True, False, False, False, False, True, True, True, False, True, False, False, False, False, False, False, False, False, False, True, False, False, False, False, False, True, True, True, True, False, True, False, True, True, False, False, False, False, True, False, False, False, False, True, True, False, True, False, True, False, False, True, False, True, False, True, False, False, True, False, True, False, True, True, True, False, True, True, True, False, True, False, True, True, False, False, False, False, False, True, True, False, False, False, False, False, True, True, False, False, False, False, True, False, False, True, True, False, False, False, False, False, True, False, False, True, True, True, False, False, True, True, True, False, False, True, True, True, False, False, True, False, True, True, False, False, True, True, False, True, False, False, False, False, True, False, True, True, False, True, False, True, True, True, False, False, True, True, True, True, True, True, False, False, False, True, True, True, True, False, False, True, True, False, True, False, False, True, False, True, True, False, False, False, False, False, False, False, False, False, False, False, True, True, False, True, True, True, True, False, False, True, False, False, True, False, True, False, False, False, False, False, False, True, False, False, False, False, False, False, False, True, True, False, False, True, False, False, True, False, False, False, False, False, False, False, False, False, False, True, True, False, False, True, False, True, False, True, True, False, True, False, False, False, False, False, True, False, True, False, False, False, False, True, False, False, True, True, False, True, False, False, False, True, False, False, False, False, True, True, False, False, False, False, False, False, False, True, False, False, False, False, False, True, False, False, False, False, False, False, False, False, True, False, True, False, True, False, False, False, True, False, False, False, True, False, False, False, False, True, True, False, False, False, True, True, False, True, False, False, True, False, True, True, False, True, False, False, True, True, False, True, False, True, True, False, False, False, False, True, False, False, True, False, False, False, True, False, True, False, False, False, False, False, False, True, False, True, True, True, False, False, False, False, False, True, True, False, True, False, True, False, True, True, True, False, True, False, True, False, True, False, True, True, True, True, False, True, False, False, True, False, False, False, True, True, True, False, False, True, False, False, True, False, False, False, False, False, False, False, False, False, True, True, False, True, False, False, True, True, True, False, False, True, True, False, True, False, False, True, True, True, True, False, False, True, True, False, False, True, True, False, True, True, True, False, True, True, False, True, True, False, False, False, True, False, True, False, True, False, False, False, False, False, False, False, True, False, True, True, True, False, False, False, False, False, True, False, False, False, False, False, False, False, False, True, False, False, False, True, False, False, False, True, False, False, True, True, False, False, True, False, False, True, True, True, True, False, False, False, True, True, False, True, False, True, False, False, False, False, False, False, False, False, False, False, False, False, True, True, True, False, False, False, True, True, True, True, True, False, True, True, True, True, False, False, False, True, False, False, True, True, False, False, True, False, True, True, True, True, False, False, False, True, True, False, False, True, False, False, False, False, True, True, False, False, True, False, False, True, True, False, False, False, True, False, False, True, False, False, True, False, True, False, False, False, False, False, True, False, True, True, False, False, True, True, False, False, True, True, False, False, False, False, False, False, False, True, True, False, False, True, True, True, True, False, True, False, False, False, False, False, True, True, False, False, False, True, False, True, True, False, False, False, False, True, False, False, False, False, False, False, True, False, True, True, False, True, True, True, False, False, True, False, False, False, False, False, True, False, True, False, False, False, False, True, False, True, True, False, True, True, False, False, False, False, False, False, False, True, False, False, False, False, False, False, True, False, False, False, False, False, False, True, True, True, False, False, True, True, False, False, True, True, False, False, True, False, False, False, False, False, False, False, True, True, False, True, False, False, False, True, True, False, False, True, True, True, False, False, False, False, True, True, True, False, False, True, True, True, False, False, True, False, True, True, False, False, False, True, False, True, False, False, False, True, False, True, False, True, True, True, False, True, True, True, False, True, True, True, True, False, False, False, True]\n",
      "count 4557\n"
     ]
    }
   ],
   "source": [
    "#Selecting our target range of customers:\n",
    "filter_arr = []\n",
    "count=0\n",
    "for element in arr_val[:,1]:\n",
    "    \n",
    "    #Alter the lower and upper limits to get the desired range of customers:\n",
    "    #Category 1: 0.0-0.36\n",
    "    #Category 2: 0.36-0.4\n",
    "    #Category 3: 0.4-0.51\n",
    "    #Category 4: 0.51-0.1\n",
    "    \n",
    "    if element >= 0.4 and element <=0.51:\n",
    "        count=count+1\n",
    "        (filter_arr.append(True))\n",
    "    else:\n",
    "        filter_arr.append(False)\n",
    "\n",
    "print(filter_arr)\n",
    "print('count',count)"
   ]
  },
  {
   "cell_type": "code",
   "execution_count": 30,
   "metadata": {},
   "outputs": [],
   "source": [
    "y_df = pd.DataFrame(data = filter_arr, columns = ['y_predicted'], index = y_val.index.copy())\n",
    "y_df_out = pd.merge(X_val, y_df, how = 'left', left_index = True, right_index = True)"
   ]
  },
  {
   "cell_type": "code",
   "execution_count": 31,
   "metadata": {},
   "outputs": [
    {
     "data": {
      "text/html": [
       "<div>\n",
       "<style scoped>\n",
       "    .dataframe tbody tr th:only-of-type {\n",
       "        vertical-align: middle;\n",
       "    }\n",
       "\n",
       "    .dataframe tbody tr th {\n",
       "        vertical-align: top;\n",
       "    }\n",
       "\n",
       "    .dataframe thead th {\n",
       "        text-align: right;\n",
       "    }\n",
       "</style>\n",
       "<table border=\"1\" class=\"dataframe\">\n",
       "  <thead>\n",
       "    <tr style=\"text-align: right;\">\n",
       "      <th></th>\n",
       "      <th>lead_time</th>\n",
       "      <th>arrival_date_year</th>\n",
       "      <th>arrival_date_week_number</th>\n",
       "      <th>arrival_date_day_of_month</th>\n",
       "      <th>stays_in_weekend_nights</th>\n",
       "      <th>stays_in_week_nights</th>\n",
       "      <th>adults</th>\n",
       "      <th>children</th>\n",
       "      <th>babies</th>\n",
       "      <th>is_repeated_guest</th>\n",
       "      <th>...</th>\n",
       "      <th>assigned_room_type_10</th>\n",
       "      <th>assigned_room_type_11</th>\n",
       "      <th>deposit_type_0</th>\n",
       "      <th>deposit_type_1</th>\n",
       "      <th>deposit_type_2</th>\n",
       "      <th>customer_type_0</th>\n",
       "      <th>customer_type_1</th>\n",
       "      <th>customer_type_2</th>\n",
       "      <th>customer_type_3</th>\n",
       "      <th>y_predicted</th>\n",
       "    </tr>\n",
       "  </thead>\n",
       "  <tbody>\n",
       "    <tr>\n",
       "      <th>108043</th>\n",
       "      <td>44</td>\n",
       "      <td>2017</td>\n",
       "      <td>12</td>\n",
       "      <td>19</td>\n",
       "      <td>2</td>\n",
       "      <td>1</td>\n",
       "      <td>2</td>\n",
       "      <td>0.0</td>\n",
       "      <td>0</td>\n",
       "      <td>0</td>\n",
       "      <td>...</td>\n",
       "      <td>0</td>\n",
       "      <td>0</td>\n",
       "      <td>1</td>\n",
       "      <td>0</td>\n",
       "      <td>0</td>\n",
       "      <td>0</td>\n",
       "      <td>0</td>\n",
       "      <td>1</td>\n",
       "      <td>0</td>\n",
       "      <td>False</td>\n",
       "    </tr>\n",
       "    <tr>\n",
       "      <th>100141</th>\n",
       "      <td>192</td>\n",
       "      <td>2016</td>\n",
       "      <td>43</td>\n",
       "      <td>21</td>\n",
       "      <td>0</td>\n",
       "      <td>2</td>\n",
       "      <td>2</td>\n",
       "      <td>0.0</td>\n",
       "      <td>0</td>\n",
       "      <td>0</td>\n",
       "      <td>...</td>\n",
       "      <td>0</td>\n",
       "      <td>0</td>\n",
       "      <td>1</td>\n",
       "      <td>0</td>\n",
       "      <td>0</td>\n",
       "      <td>0</td>\n",
       "      <td>0</td>\n",
       "      <td>0</td>\n",
       "      <td>1</td>\n",
       "      <td>False</td>\n",
       "    </tr>\n",
       "    <tr>\n",
       "      <th>113529</th>\n",
       "      <td>8</td>\n",
       "      <td>2017</td>\n",
       "      <td>23</td>\n",
       "      <td>8</td>\n",
       "      <td>0</td>\n",
       "      <td>1</td>\n",
       "      <td>1</td>\n",
       "      <td>0.0</td>\n",
       "      <td>0</td>\n",
       "      <td>0</td>\n",
       "      <td>...</td>\n",
       "      <td>0</td>\n",
       "      <td>0</td>\n",
       "      <td>1</td>\n",
       "      <td>0</td>\n",
       "      <td>0</td>\n",
       "      <td>0</td>\n",
       "      <td>0</td>\n",
       "      <td>1</td>\n",
       "      <td>0</td>\n",
       "      <td>False</td>\n",
       "    </tr>\n",
       "    <tr>\n",
       "      <th>83426</th>\n",
       "      <td>81</td>\n",
       "      <td>2016</td>\n",
       "      <td>5</td>\n",
       "      <td>30</td>\n",
       "      <td>1</td>\n",
       "      <td>1</td>\n",
       "      <td>2</td>\n",
       "      <td>0.0</td>\n",
       "      <td>0</td>\n",
       "      <td>0</td>\n",
       "      <td>...</td>\n",
       "      <td>0</td>\n",
       "      <td>0</td>\n",
       "      <td>1</td>\n",
       "      <td>0</td>\n",
       "      <td>0</td>\n",
       "      <td>0</td>\n",
       "      <td>0</td>\n",
       "      <td>1</td>\n",
       "      <td>0</td>\n",
       "      <td>False</td>\n",
       "    </tr>\n",
       "    <tr>\n",
       "      <th>83425</th>\n",
       "      <td>81</td>\n",
       "      <td>2016</td>\n",
       "      <td>5</td>\n",
       "      <td>30</td>\n",
       "      <td>1</td>\n",
       "      <td>1</td>\n",
       "      <td>2</td>\n",
       "      <td>0.0</td>\n",
       "      <td>0</td>\n",
       "      <td>0</td>\n",
       "      <td>...</td>\n",
       "      <td>0</td>\n",
       "      <td>0</td>\n",
       "      <td>1</td>\n",
       "      <td>0</td>\n",
       "      <td>0</td>\n",
       "      <td>0</td>\n",
       "      <td>0</td>\n",
       "      <td>1</td>\n",
       "      <td>0</td>\n",
       "      <td>False</td>\n",
       "    </tr>\n",
       "  </tbody>\n",
       "</table>\n",
       "<p>5 rows × 69 columns</p>\n",
       "</div>"
      ],
      "text/plain": [
       "        lead_time  arrival_date_year  arrival_date_week_number  \\\n",
       "108043         44               2017                        12   \n",
       "100141        192               2016                        43   \n",
       "113529          8               2017                        23   \n",
       "83426          81               2016                         5   \n",
       "83425          81               2016                         5   \n",
       "\n",
       "        arrival_date_day_of_month  stays_in_weekend_nights  \\\n",
       "108043                         19                        2   \n",
       "100141                         21                        0   \n",
       "113529                          8                        0   \n",
       "83426                          30                        1   \n",
       "83425                          30                        1   \n",
       "\n",
       "        stays_in_week_nights  adults  children  babies  is_repeated_guest  \\\n",
       "108043                     1       2       0.0       0                  0   \n",
       "100141                     2       2       0.0       0                  0   \n",
       "113529                     1       1       0.0       0                  0   \n",
       "83426                      1       2       0.0       0                  0   \n",
       "83425                      1       2       0.0       0                  0   \n",
       "\n",
       "        ...  assigned_room_type_10  assigned_room_type_11  deposit_type_0  \\\n",
       "108043  ...                      0                      0               1   \n",
       "100141  ...                      0                      0               1   \n",
       "113529  ...                      0                      0               1   \n",
       "83426   ...                      0                      0               1   \n",
       "83425   ...                      0                      0               1   \n",
       "\n",
       "        deposit_type_1  deposit_type_2  customer_type_0  customer_type_1  \\\n",
       "108043               0               0                0                0   \n",
       "100141               0               0                0                0   \n",
       "113529               0               0                0                0   \n",
       "83426                0               0                0                0   \n",
       "83425                0               0                0                0   \n",
       "\n",
       "        customer_type_2  customer_type_3  y_predicted  \n",
       "108043                1                0        False  \n",
       "100141                0                1        False  \n",
       "113529                1                0        False  \n",
       "83426                 1                0        False  \n",
       "83425                 1                0        False  \n",
       "\n",
       "[5 rows x 69 columns]"
      ]
     },
     "execution_count": 31,
     "metadata": {},
     "output_type": "execute_result"
    }
   ],
   "source": [
    "y_df_out.head()"
   ]
  },
  {
   "cell_type": "code",
   "execution_count": 33,
   "metadata": {},
   "outputs": [],
   "source": [
    "y_df_out.to_csv('cancellation.csv')"
   ]
  }
 ],
 "metadata": {
  "kernelspec": {
   "display_name": "Python 3",
   "language": "python",
   "name": "python3"
  },
  "language_info": {
   "codemirror_mode": {
    "name": "ipython",
    "version": 3
   },
   "file_extension": ".py",
   "mimetype": "text/x-python",
   "name": "python",
   "nbconvert_exporter": "python",
   "pygments_lexer": "ipython3",
   "version": "3.7.3"
  }
 },
 "nbformat": 4,
 "nbformat_minor": 2
}
